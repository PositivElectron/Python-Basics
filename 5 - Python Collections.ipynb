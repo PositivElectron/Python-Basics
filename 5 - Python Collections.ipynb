{
 "cells": [
  {
   "cell_type": "markdown",
   "id": "92bba390-a2ad-4f17-9617-7aa4775b5ed0",
   "metadata": {},
   "source": [
    "<h1> Python Collections"
   ]
  },
  {
   "cell_type": "markdown",
   "id": "e2c0ace0-9a44-4d6f-9da9-f152de183811",
   "metadata": {},
   "source": [
    "### The Python data structures such as <U>tuples, lists, dicts & sets</U> are simple but powerful. "
   ]
  },
  {
   "cell_type": "markdown",
   "id": "2d36c332-b809-44bb-9854-d4563162dedb",
   "metadata": {},
   "source": [
    "<h2>1. Tuples"
   ]
  },
  {
   "attachments": {},
   "cell_type": "markdown",
   "id": "4ccc7c9a-6f61-4013-8622-1b690b61ecf3",
   "metadata": {},
   "source": [
    "<font size = \"+1\">  <li> A fixed length and immutable sequence of Python objects is called Tuple. \n",
    "<br><br> <li> You can create a tuple with a comma-separated sequence of values"
   ]
  },
  {
   "cell_type": "code",
   "execution_count": 42,
   "id": "9033f8ab-98b3-4c4c-8254-3cf8226e1f16",
   "metadata": {},
   "outputs": [],
   "source": [
    "tup1 = 1,2,43"
   ]
  },
  {
   "cell_type": "code",
   "execution_count": 4,
   "id": "543dc00a-2ae1-428e-ac8a-b18937d09e2a",
   "metadata": {},
   "outputs": [
    {
     "name": "stdout",
     "output_type": "stream",
     "text": [
      "(1, 2, 43) <class 'tuple'>\n"
     ]
    }
   ],
   "source": [
    "print(tup1, type(tup1))"
   ]
  },
  {
   "cell_type": "markdown",
   "id": "821cc9d3-27ea-4688-b508-47fb454c77d2",
   "metadata": {},
   "source": [
    "<h4> If you want to define a complicated expression of tuple, you can enclose the values in a parenthesis. "
   ]
  },
  {
   "cell_type": "code",
   "execution_count": 61,
   "id": "033a7705-ed5c-45e2-a7c8-4c67ab09e938",
   "metadata": {},
   "outputs": [],
   "source": [
    "nested_tup = (1,2,3),(4,5)"
   ]
  },
  {
   "cell_type": "code",
   "execution_count": 62,
   "id": "c64def74-27f9-46a0-a55e-a82dc1b9cb5a",
   "metadata": {},
   "outputs": [
    {
     "data": {
      "text/plain": [
       "((1, 2, 3), (4, 5))"
      ]
     },
     "execution_count": 62,
     "metadata": {},
     "output_type": "execute_result"
    }
   ],
   "source": [
    "nested_tup"
   ]
  },
  {
   "cell_type": "markdown",
   "id": "06f6ddda-cc16-42da-a7cf-48d1debcb5b6",
   "metadata": {},
   "source": [
    "<h4> Any sequence or iterator can also be converted into the tuple by invoking tuple."
   ]
  },
  {
   "cell_type": "code",
   "execution_count": 1,
   "id": "cd6756eb",
   "metadata": {},
   "outputs": [
    {
     "data": {
      "text/plain": [
       "range(1, 10)"
      ]
     },
     "execution_count": 1,
     "metadata": {},
     "output_type": "execute_result"
    }
   ],
   "source": [
    "range(1,10)"
   ]
  },
  {
   "cell_type": "code",
   "execution_count": 63,
   "id": "104046ec",
   "metadata": {},
   "outputs": [
    {
     "data": {
      "text/plain": [
       "(1, 2, 3, 4, 5, 6, 7, 8, 9)"
      ]
     },
     "execution_count": 63,
     "metadata": {},
     "output_type": "execute_result"
    }
   ],
   "source": [
    "tuple(range(1,10))"
   ]
  },
  {
   "cell_type": "code",
   "execution_count": 107,
   "id": "998dc6ae-835a-417a-8472-3468e4144c40",
   "metadata": {},
   "outputs": [
    {
     "data": {
      "text/plain": [
       "(7, 6, 3)"
      ]
     },
     "execution_count": 107,
     "metadata": {},
     "output_type": "execute_result"
    }
   ],
   "source": [
    "tuple([7, 6, 3])"
   ]
  },
  {
   "cell_type": "code",
   "execution_count": 43,
   "id": "64dfdb70-b6d8-485c-8e67-473afe044f74",
   "metadata": {},
   "outputs": [
    {
     "name": "stdout",
     "output_type": "stream",
     "text": [
      "('P', 'y', 't', 'h', 'o', 'n')\n"
     ]
    }
   ],
   "source": [
    "tupl = tuple('Python') \n",
    "print(tupl)"
   ]
  },
  {
   "cell_type": "markdown",
   "id": "de549f2b-1dac-4bbd-b57f-c7311db63f7e",
   "metadata": {},
   "source": [
    "<h4> You can access the elements of the tuple using the square brackets.\n",
    "<br><br>In python the sequences are 0-indexed."
   ]
  },
  {
   "cell_type": "code",
   "execution_count": 10,
   "id": "e4f69903-9983-4811-902e-c55fd42fe76d",
   "metadata": {},
   "outputs": [
    {
     "data": {
      "text/plain": [
       "'o'"
      ]
     },
     "execution_count": 10,
     "metadata": {},
     "output_type": "execute_result"
    }
   ],
   "source": [
    "tupl[4]"
   ]
  },
  {
   "cell_type": "markdown",
   "id": "bf84e23c-2043-4069-bc4a-0e945134667a",
   "metadata": {},
   "source": [
    "<h4> Even though the objects stored in a tuple may be mutable, the tuple are immutable. \n",
    "    <br><br> In other words, we can say, we cannot modify the objects stored in each slot."
   ]
  },
  {
   "cell_type": "code",
   "execution_count": 2,
   "id": "12cc0cd8-84aa-47bc-afce-1f94699132a2",
   "metadata": {},
   "outputs": [],
   "source": [
    "tupl2 = tuple(['abc', [3, 4], False])"
   ]
  },
  {
   "cell_type": "code",
   "execution_count": 3,
   "id": "aac3e71c",
   "metadata": {},
   "outputs": [
    {
     "data": {
      "text/plain": [
       "('abc', [3, 4], False)"
      ]
     },
     "execution_count": 3,
     "metadata": {},
     "output_type": "execute_result"
    }
   ],
   "source": [
    "tupl2"
   ]
  },
  {
   "cell_type": "code",
   "execution_count": 47,
   "id": "d9e15e06",
   "metadata": {},
   "outputs": [
    {
     "data": {
      "text/plain": [
       "[3, 4]"
      ]
     },
     "execution_count": 47,
     "metadata": {},
     "output_type": "execute_result"
    }
   ],
   "source": [
    "tupl2[1]"
   ]
  },
  {
   "cell_type": "code",
   "execution_count": 4,
   "id": "d2a70b1a-096c-43d2-a422-f7e75b6330b8",
   "metadata": {},
   "outputs": [
    {
     "ename": "TypeError",
     "evalue": "'tuple' object does not support item assignment",
     "output_type": "error",
     "traceback": [
      "\u001b[1;31m---------------------------------------------------------------------------\u001b[0m",
      "\u001b[1;31mTypeError\u001b[0m                                 Traceback (most recent call last)",
      "Cell \u001b[1;32mIn[4], line 1\u001b[0m\n\u001b[1;32m----> 1\u001b[0m tupl2[\u001b[39m1\u001b[39m] \u001b[39m=\u001b[39m [\u001b[39m3\u001b[39m,\u001b[39m4\u001b[39m,\u001b[39m5\u001b[39m]\n",
      "\u001b[1;31mTypeError\u001b[0m: 'tuple' object does not support item assignment"
     ]
    }
   ],
   "source": [
    "tupl2[1] = [3,4,5]"
   ]
  },
  {
   "cell_type": "code",
   "execution_count": 49,
   "id": "cd55a260",
   "metadata": {},
   "outputs": [
    {
     "data": {
      "text/plain": [
       "('abc', [3, 4], False)"
      ]
     },
     "execution_count": 49,
     "metadata": {},
     "output_type": "execute_result"
    }
   ],
   "source": [
    "tupl2"
   ]
  },
  {
   "cell_type": "markdown",
   "id": "673bebb3-c2b9-4fb7-a663-5694511f9a3f",
   "metadata": {},
   "source": [
    "<h4>If the object inside the tuple is mutable, if can be modified in-place"
   ]
  },
  {
   "cell_type": "code",
   "execution_count": 50,
   "id": "094550ec-f231-4dcb-a179-ae5b3b2d7649",
   "metadata": {},
   "outputs": [],
   "source": [
    "tupl2[1].append(5)"
   ]
  },
  {
   "cell_type": "code",
   "execution_count": 51,
   "id": "5bf805d6",
   "metadata": {},
   "outputs": [
    {
     "data": {
      "text/plain": [
       "('abc', [3, 4, 5], False)"
      ]
     },
     "execution_count": 51,
     "metadata": {},
     "output_type": "execute_result"
    }
   ],
   "source": [
    "tupl2"
   ]
  },
  {
   "cell_type": "code",
   "execution_count": 5,
   "id": "242e67a9",
   "metadata": {},
   "outputs": [
    {
     "data": {
      "text/plain": [
       "(5, 'def', None, 1, 2, 3, 'abc')"
      ]
     },
     "execution_count": 5,
     "metadata": {},
     "output_type": "execute_result"
    }
   ],
   "source": [
    "# Tuples can be concatenated using the + operator. We get a longer tuple as a result.\n",
    "x = (5, 'def', None) + (1, 2, 3) + ('abc',)\n",
    "x "
   ]
  },
  {
   "cell_type": "code",
   "execution_count": 52,
   "id": "8700db0d",
   "metadata": {},
   "outputs": [
    {
     "data": {
      "text/plain": [
       "(5, 6, 5, 6, 5, 6, 5, 6)"
      ]
     },
     "execution_count": 52,
     "metadata": {},
     "output_type": "execute_result"
    }
   ],
   "source": [
    "# If you multiply the tuple by an integer, that many copies of the tuple will concatenate together. \n",
    "a = (5, 6)\n",
    "a*4"
   ]
  },
  {
   "cell_type": "code",
   "execution_count": 53,
   "id": "3e93baf2",
   "metadata": {},
   "outputs": [
    {
     "data": {
      "text/plain": [
       "(5, 6)"
      ]
     },
     "execution_count": 53,
     "metadata": {},
     "output_type": "execute_result"
    }
   ],
   "source": [
    "a"
   ]
  },
  {
   "attachments": {},
   "cell_type": "markdown",
   "id": "c7345c76",
   "metadata": {},
   "source": [
    "### Unpacking the Tuple\n",
    "<font size = \"+1\">  In Python, when we assign the values to a tuple, we call it packing the tuple.<br>\n",
    "When we extract the variables back into the tuple, this is called unpacking a tuple. <br>\n",
    "    There are some rules while unpacking Tuples.<br>\n",
    "<font size = \"+1\"> <li>For a tuple the number of variables must match the number of values in the tuple. <br><br>\n",
    "<font size = \"+1\"> <li>If the number of variables is less than the number of values, you can add an * to the variable name and the values will be assigned to the variable as a list. "
   ]
  },
  {
   "cell_type": "code",
   "execution_count": 56,
   "id": "5557e2d8",
   "metadata": {},
   "outputs": [],
   "source": [
    "tupl1 = (5, 6, 7)     # packing of tuple"
   ]
  },
  {
   "cell_type": "code",
   "execution_count": 57,
   "id": "f91e280a",
   "metadata": {},
   "outputs": [],
   "source": [
    "a, b, c = tupl1   # unpacking of tuple"
   ]
  },
  {
   "cell_type": "code",
   "execution_count": 58,
   "id": "03cbe4eb",
   "metadata": {},
   "outputs": [
    {
     "name": "stdout",
     "output_type": "stream",
     "text": [
      "5\n",
      "6\n",
      "7\n"
     ]
    }
   ],
   "source": [
    "print( a, b, c, sep='\\n')"
   ]
  },
  {
   "cell_type": "code",
   "execution_count": 88,
   "id": "ccb49dfb",
   "metadata": {},
   "outputs": [
    {
     "name": "stdout",
     "output_type": "stream",
     "text": [
      "(1, 2, (3, 4))\n",
      "1\n",
      "2\n",
      "3\n",
      "4\n"
     ]
    }
   ],
   "source": [
    "tupl2 = 1, 2, (3, 4)\n",
    "d, e, (f, g) = tupl2\n",
    "print(tupl2, d, e, f, g, sep='\\n')"
   ]
  },
  {
   "cell_type": "code",
   "execution_count": 90,
   "id": "59739cef",
   "metadata": {},
   "outputs": [
    {
     "name": "stdout",
     "output_type": "stream",
     "text": [
      "1\n",
      "[2, (3, 4)]\n"
     ]
    }
   ],
   "source": [
    "tupl2 = 1, 2, (3, 4)\n",
    "d, *rest = tupl2\n",
    "print(d, rest, sep='\\n')"
   ]
  },
  {
   "cell_type": "code",
   "execution_count": 162,
   "id": "58c10f62",
   "metadata": {},
   "outputs": [
    {
     "name": "stdout",
     "output_type": "stream",
     "text": [
      "a = 1 , b = 2 , c = 3\n",
      "a = 4 , b = 5 , c = 6\n",
      "a = 7 , b = 8 , c = 9\n"
     ]
    }
   ],
   "source": [
    "# use case of variable unpacking is iterating over sequence of tuples or lists:\n",
    "a_seq = [(1, 2, 3), (4, 5, 6), (7, 8, 9)]\n",
    "for a, b, c in a_seq:\n",
    "    print(\"a =\",a,\", b =\",b,\", c =\",c)"
   ]
  },
  {
   "cell_type": "code",
   "execution_count": 165,
   "id": "2c516bbc",
   "metadata": {},
   "outputs": [
    {
     "name": "stdout",
     "output_type": "stream",
     "text": [
      "Before swapping, a =  2 , b =  3\n",
      "After swapping, a =  3 , b =  2\n"
     ]
    }
   ],
   "source": [
    "# Swappin using Tuple is another use case of Tuple\n",
    "a = 2\n",
    "b = 3\n",
    "print(\"Before swapping, a = \", a,\", b = \", b)\n",
    "a, b = b, a\n",
    "print(\"After swapping, a = \", a,\", b = \", b)"
   ]
  },
  {
   "cell_type": "code",
   "execution_count": null,
   "id": "b03b2706",
   "metadata": {},
   "outputs": [],
   "source": []
  },
  {
   "cell_type": "markdown",
   "id": "274dfd20",
   "metadata": {},
   "source": [
    "<h4>Since the tuples are immutable, Python offers only two built-in methods that you can use on tuples. <br><br>\n",
    "<li>count() returns the number of occurrences of a value. <br><br>\n",
    "<li>index() searches the tuple for a specified value and return the position where the value was found."
   ]
  },
  {
   "cell_type": "code",
   "execution_count": 29,
   "id": "8bf8989e",
   "metadata": {},
   "outputs": [],
   "source": [
    "tupl = 1, 2, 2, 2, 3, 3, 2, 4"
   ]
  },
  {
   "cell_type": "code",
   "execution_count": 182,
   "id": "810843c4",
   "metadata": {},
   "outputs": [
    {
     "data": {
      "text/plain": [
       "4"
      ]
     },
     "execution_count": 182,
     "metadata": {},
     "output_type": "execute_result"
    }
   ],
   "source": [
    "tupl.count(2)"
   ]
  },
  {
   "cell_type": "code",
   "execution_count": 183,
   "id": "6833c3f7",
   "metadata": {},
   "outputs": [
    {
     "data": {
      "text/plain": [
       "4"
      ]
     },
     "execution_count": 183,
     "metadata": {},
     "output_type": "execute_result"
    }
   ],
   "source": [
    "tupl.index(3)"
   ]
  },
  {
   "cell_type": "markdown",
   "id": "4a8898b6-8bee-4724-962e-1576c6d924e5",
   "metadata": {},
   "source": [
    "<h2>2. List"
   ]
  },
  {
   "cell_type": "markdown",
   "id": "ee5058cc-52cf-4a5a-b5b4-6a32c0ea0d6a",
   "metadata": {},
   "source": [
    "<font size = \"+0.5\"> The list items have following properties: <br><br>\n",
    "<font size = \"+0.5\"> <li><u>Ordered</u>: The items have a defined order and that order will not change. If you add a new item to a list, the item will be added at the end of the list. Even though using some list methods, you can change the order but in general, the order of the items does not change.<br><br>\n",
    "<font size = \"+0.5\"> <li><u>Mutable</u>: The list items are mutable. That means that we can change, add, or remove the items from the list after the list has been created.<br><br>\n",
    "<font size = \"+0.5\"> <li><u>Allow duplicates</u>: The lists are indexed that allows the list items to have the same value.<br><br>\n",
    "<font size = \"+0.5\"> <li><u>List Length</u>: You can determine the number of items in the list using len() function.<br><br>\n",
    "<font size = \"+0.5\"> <li><u>List item data type</u>: The list can contain items of any data type.<br><br>\n",
    "<font size = \"+0.5\"> <li><u>Indexed</u>: The list items are indexed. The first item of the list has index [0]. The second item has index [1]"
   ]
  },
  {
   "cell_type": "code",
   "execution_count": 18,
   "id": "5c2c05cc-97a9-40b4-9f40-3c7eacfc409c",
   "metadata": {},
   "outputs": [],
   "source": [
    "# Creating list using []\n",
    "b_list = [3, 6, 9, None]"
   ]
  },
  {
   "cell_type": "code",
   "execution_count": 118,
   "id": "5f1b7b3f",
   "metadata": {},
   "outputs": [
    {
     "name": "stdout",
     "output_type": "stream",
     "text": [
      "[3, 6, 9, None]\n",
      "<class 'list'>\n"
     ]
    }
   ],
   "source": [
    "print(b_list)\n",
    "print(type(b_list))"
   ]
  },
  {
   "cell_type": "code",
   "execution_count": 7,
   "id": "cf5adf71-3e8e-4553-bb05-04dfca4c5abd",
   "metadata": {},
   "outputs": [],
   "source": [
    "# Creating list using list function\n",
    "a_tupl = (\"Python\", \"Hi\")\n",
    "a_list = list(a_tupl)"
   ]
  },
  {
   "cell_type": "code",
   "execution_count": 8,
   "id": "9bdc344d-ea03-4d44-8b9d-1df5d2ce6af4",
   "metadata": {},
   "outputs": [
    {
     "name": "stdout",
     "output_type": "stream",
     "text": [
      "['Python', 'Hi']\n"
     ]
    }
   ],
   "source": [
    "print(a_list)"
   ]
  },
  {
   "cell_type": "code",
   "execution_count": 19,
   "id": "e88b4796-00de-429d-aace-3316d92bedcf",
   "metadata": {},
   "outputs": [],
   "source": [
    "# let replace None with jupyter\n",
    "b_list[3] = \"jupyter\""
   ]
  },
  {
   "cell_type": "code",
   "execution_count": 20,
   "id": "8823c827-ff09-4c16-8c51-14bc42d4821f",
   "metadata": {},
   "outputs": [
    {
     "name": "stdout",
     "output_type": "stream",
     "text": [
      "[3, 6, 9, 'jupyter']\n"
     ]
    }
   ],
   "source": [
    "print(b_list)"
   ]
  },
  {
   "cell_type": "code",
   "execution_count": 21,
   "id": "3609b1d0-163c-4d5e-8a2a-1f1bff7399a0",
   "metadata": {},
   "outputs": [
    {
     "data": {
      "text/plain": [
       "[3, 6, 9, 'jupyter', 'notebook']"
      ]
     },
     "execution_count": 21,
     "metadata": {},
     "output_type": "execute_result"
    }
   ],
   "source": [
    "# Use append method to append an element at the end of the list\n",
    "b_list.append(\"notebook\")\n",
    "b_list"
   ]
  },
  {
   "cell_type": "code",
   "execution_count": 65,
   "id": "157d43e2-c460-4090-a306-6c20f2889379",
   "metadata": {},
   "outputs": [
    {
     "data": {
      "text/plain": [
       "[3, 6, 9, 'new', 'jupyter', 'notebook']"
      ]
     },
     "execution_count": 65,
     "metadata": {},
     "output_type": "execute_result"
    }
   ],
   "source": [
    "# Use insert method to insert an element at a specific location in the list.\n",
    "b_list.insert(3,\"new\")\n",
    "b_list"
   ]
  },
  {
   "cell_type": "markdown",
   "id": "b2e79640-e734-4a2e-b949-d8343720f9e7",
   "metadata": {
    "tags": []
   },
   "source": [
    "### Please note that 'insert' method is computationally expensive when compared with 'append'. \n",
    "### In the case of insert, the reference to the subsequent elements has to be shifted internally so that a room can be created for the new element "
   ]
  },
  {
   "cell_type": "code",
   "execution_count": 22,
   "id": "756a18c6-ebca-4053-9e76-4307f7683b06",
   "metadata": {},
   "outputs": [
    {
     "data": {
      "text/plain": [
       "6"
      ]
     },
     "execution_count": 22,
     "metadata": {},
     "output_type": "execute_result"
    }
   ],
   "source": [
    "# Use pop to remove and return an element at a particular index item. pop is a reverse operation of insert.\n",
    "b_list.pop(1)"
   ]
  },
  {
   "cell_type": "code",
   "execution_count": 23,
   "id": "8f233c7f-a83a-4301-9896-d43e12ff30e8",
   "metadata": {},
   "outputs": [
    {
     "data": {
      "text/plain": [
       "[3, 9, 'jupyter', 'notebook']"
      ]
     },
     "execution_count": 23,
     "metadata": {},
     "output_type": "execute_result"
    }
   ],
   "source": [
    "b_list"
   ]
  },
  {
   "cell_type": "code",
   "execution_count": 24,
   "id": "a7c17f48-1c0d-435c-a52f-75650196802a",
   "metadata": {},
   "outputs": [],
   "source": [
    "# We can also remove the elements using remove. \n",
    "# The remove method locates the first instance of the value and remove the same from the list.\n",
    "b_list.remove(\"notebook\")"
   ]
  },
  {
   "cell_type": "code",
   "execution_count": 25,
   "id": "c277d9e6-ed5a-4aa7-8294-542b8685f3d9",
   "metadata": {},
   "outputs": [
    {
     "data": {
      "text/plain": [
       "[3, 9, 'jupyter']"
      ]
     },
     "execution_count": 25,
     "metadata": {},
     "output_type": "execute_result"
    }
   ],
   "source": [
    "b_list"
   ]
  },
  {
   "cell_type": "code",
   "execution_count": 70,
   "id": "2b120e5c-fe91-443d-b9c7-826c743a6d6a",
   "metadata": {},
   "outputs": [
    {
     "data": {
      "text/plain": [
       "True"
      ]
     },
     "execution_count": 70,
     "metadata": {},
     "output_type": "execute_result"
    }
   ],
   "source": [
    "# In order to search whether the list contains a specific value, you can use in keyword.\n",
    "\"jupyter\" in b_list"
   ]
  },
  {
   "cell_type": "code",
   "execution_count": 71,
   "id": "53c7afa4-3d15-4a11-a0e5-58af74ed14ed",
   "metadata": {},
   "outputs": [
    {
     "data": {
      "text/plain": [
       "False"
      ]
     },
     "execution_count": 71,
     "metadata": {},
     "output_type": "execute_result"
    }
   ],
   "source": [
    "\"Python\" in b_list"
   ]
  },
  {
   "cell_type": "code",
   "execution_count": 72,
   "id": "479f5896-183a-4e64-82cc-397c5f1f4e96",
   "metadata": {},
   "outputs": [
    {
     "data": {
      "text/plain": [
       "True"
      ]
     },
     "execution_count": 72,
     "metadata": {},
     "output_type": "execute_result"
    }
   ],
   "source": [
    "# In order to search whether the list does not contains a specific value, you can use not in keyword.\n",
    "\"Java\" not in b_list"
   ]
  },
  {
   "cell_type": "code",
   "execution_count": 1,
   "id": "a01c4657",
   "metadata": {},
   "outputs": [],
   "source": [
    "a_list = [\"This\",'is','python']"
   ]
  },
  {
   "cell_type": "code",
   "execution_count": 27,
   "id": "560a5129-74eb-4332-9ffa-a7bb15d36ee5",
   "metadata": {},
   "outputs": [
    {
     "data": {
      "text/plain": [
       "['This', 'is', 'python', 3, 9, 'jupyter']"
      ]
     },
     "execution_count": 27,
     "metadata": {},
     "output_type": "execute_result"
    }
   ],
   "source": [
    "# If you want to concatenate or add two lists together, you can use + operator\n",
    "a_list + b_list"
   ]
  },
  {
   "cell_type": "code",
   "execution_count": 2,
   "id": "cb28aafc",
   "metadata": {},
   "outputs": [
    {
     "data": {
      "text/plain": [
       "['Hello', 'there', 'This', 'is', 'python']"
      ]
     },
     "execution_count": 2,
     "metadata": {},
     "output_type": "execute_result"
    }
   ],
   "source": [
    "[\"Hello\", \"there\"] + a_list"
   ]
  },
  {
   "cell_type": "markdown",
   "id": "741757b0",
   "metadata": {},
   "source": [
    "#### Or we can use extend method"
   ]
  },
  {
   "cell_type": "code",
   "execution_count": 28,
   "id": "5ff5c061",
   "metadata": {},
   "outputs": [
    {
     "name": "stdout",
     "output_type": "stream",
     "text": [
      "[5, 'abc', None]\n"
     ]
    }
   ],
   "source": [
    "ls = [5, 'abc', None] \n",
    "print(ls)"
   ]
  },
  {
   "cell_type": "code",
   "execution_count": 3,
   "id": "4e104aab",
   "metadata": {},
   "outputs": [],
   "source": [
    "a_list.extend([1, 3, 5]) "
   ]
  },
  {
   "cell_type": "code",
   "execution_count": 4,
   "id": "7a4aca89",
   "metadata": {},
   "outputs": [
    {
     "name": "stdout",
     "output_type": "stream",
     "text": [
      "['This', 'is', 'python', 1, 3, 5]\n"
     ]
    }
   ],
   "source": [
    "print(a_list)"
   ]
  },
  {
   "cell_type": "markdown",
   "id": "d6665525",
   "metadata": {},
   "source": [
    "<h4><u>Please note</u>: If we concatenate the list by addition, a new list is created and the objects are copied over. <br><br>\n",
    "Hence it is an expensive operation. If we are building a large list, we prefer extend method. "
   ]
  },
  {
   "cell_type": "markdown",
   "id": "698e41d7",
   "metadata": {},
   "source": [
    "<h2> Sorting"
   ]
  },
  {
   "cell_type": "code",
   "execution_count": 37,
   "id": "3561d01a",
   "metadata": {},
   "outputs": [],
   "source": [
    "a_ls = [8, 4, 9, 1, 0, 7] "
   ]
  },
  {
   "cell_type": "code",
   "execution_count": 39,
   "id": "a3e11866",
   "metadata": {},
   "outputs": [],
   "source": [
    "a_ls.sort()"
   ]
  },
  {
   "cell_type": "code",
   "execution_count": 40,
   "id": "a5d8252f",
   "metadata": {},
   "outputs": [
    {
     "name": "stdout",
     "output_type": "stream",
     "text": [
      "[0, 1, 4, 7, 8, 9]\n"
     ]
    }
   ],
   "source": [
    "print(a_ls)"
   ]
  },
  {
   "cell_type": "code",
   "execution_count": 7,
   "id": "caff9eb6",
   "metadata": {},
   "outputs": [
    {
     "data": {
      "text/plain": [
       "6"
      ]
     },
     "execution_count": 7,
     "metadata": {},
     "output_type": "execute_result"
    }
   ],
   "source": [
    "\n",
    "len(\"python\")"
   ]
  },
  {
   "cell_type": "code",
   "execution_count": 8,
   "id": "f7b8fae6",
   "metadata": {},
   "outputs": [],
   "source": [
    "b_ls = ['fghi','db','jklmn','cde','opqrst']\n",
    "b_ls.sort(reverse=True)"
   ]
  },
  {
   "cell_type": "code",
   "execution_count": 9,
   "id": "0486ef9f",
   "metadata": {},
   "outputs": [
    {
     "data": {
      "text/plain": [
       "['opqrst', 'jklmn', 'fghi', 'db', 'cde']"
      ]
     },
     "execution_count": 9,
     "metadata": {},
     "output_type": "execute_result"
    }
   ],
   "source": [
    "b_ls"
   ]
  },
  {
   "cell_type": "code",
   "execution_count": 45,
   "id": "d53fdec4",
   "metadata": {},
   "outputs": [],
   "source": [
    "b_ls.sort(key=len)"
   ]
  },
  {
   "cell_type": "code",
   "execution_count": 3,
   "id": "7900236e",
   "metadata": {},
   "outputs": [
    {
     "data": {
      "text/plain": [
       "['opqrst', 'jklmn', 'fghi', 'cde', 'db']"
      ]
     },
     "execution_count": 3,
     "metadata": {},
     "output_type": "execute_result"
    }
   ],
   "source": [
    "b_ls"
   ]
  },
  {
   "cell_type": "markdown",
   "id": "3b4eb98a-ea2c-4108-8f24-9f8c2b939329",
   "metadata": {},
   "source": [
    "<h3> operators with list </h3>"
   ]
  },
  {
   "cell_type": "code",
   "execution_count": 75,
   "id": "be1d7edd-8097-4fcb-bac5-ad10b97ba519",
   "metadata": {},
   "outputs": [
    {
     "data": {
      "text/plain": [
       "[2, 3, 4, 2, 3, 4]"
      ]
     },
     "execution_count": 75,
     "metadata": {},
     "output_type": "execute_result"
    }
   ],
   "source": [
    "[2,3,4] * 2"
   ]
  },
  {
   "cell_type": "code",
   "execution_count": 3,
   "id": "ca5e9fb4-251a-4a83-870e-b92c74f065c6",
   "metadata": {},
   "outputs": [
    {
     "data": {
      "text/plain": [
       "[2, 4, 6]"
      ]
     },
     "execution_count": 3,
     "metadata": {},
     "output_type": "execute_result"
    }
   ],
   "source": [
    "# for doubling every element of list,\n",
    "ans = []\n",
    "for i in [1,2,3]:\n",
    "    ans.append(i*2)\n",
    "ans"
   ]
  },
  {
   "cell_type": "code",
   "execution_count": 4,
   "id": "69163132-879d-4315-b176-f212aff7e16e",
   "metadata": {},
   "outputs": [
    {
     "data": {
      "text/plain": [
       "[None, None, None, None, None]"
      ]
     },
     "execution_count": 4,
     "metadata": {},
     "output_type": "execute_result"
    }
   ],
   "source": [
    "[None]*5"
   ]
  },
  {
   "cell_type": "markdown",
   "id": "c30de357",
   "metadata": {},
   "source": [
    "<h2> Slicing\n",
    "<h4> We can use slicing notation to select the section of most sequence types. <br><br>\n",
    "    We can slice the list by passing the form <u>start : stop</u> to the index operator [ ]."
   ]
  },
  {
   "cell_type": "code",
   "execution_count": 10,
   "id": "b2a3a648",
   "metadata": {},
   "outputs": [],
   "source": [
    "seq = list(range(2,21))"
   ]
  },
  {
   "cell_type": "code",
   "execution_count": 24,
   "id": "3f1772fb",
   "metadata": {},
   "outputs": [
    {
     "data": {
      "text/plain": [
       "[2, 3, 4, 5, 6, 7, 8, 9, 10, 11, 12, 13, 14, 15, 16, 17, 18, 19, 20]"
      ]
     },
     "execution_count": 24,
     "metadata": {},
     "output_type": "execute_result"
    }
   ],
   "source": [
    "seq"
   ]
  },
  {
   "cell_type": "code",
   "execution_count": 11,
   "id": "6eb61194",
   "metadata": {},
   "outputs": [
    {
     "data": {
      "text/plain": [
       "[4, 5, 6, 7]"
      ]
     },
     "execution_count": 11,
     "metadata": {},
     "output_type": "execute_result"
    }
   ],
   "source": [
    "seq[2:6]\n",
    "# start element is included but stop element is not."
   ]
  },
  {
   "cell_type": "code",
   "execution_count": 7,
   "id": "b0c8f614",
   "metadata": {},
   "outputs": [],
   "source": [
    "# Assigning elements with slicing notation\n",
    "seq[3:5] = [30, 40]"
   ]
  },
  {
   "cell_type": "code",
   "execution_count": 8,
   "id": "a8188e22",
   "metadata": {},
   "outputs": [
    {
     "data": {
      "text/plain": [
       "[2, 4, 6, 30, 40, 12, 14, 16, 18, 20]"
      ]
     },
     "execution_count": 8,
     "metadata": {},
     "output_type": "execute_result"
    }
   ],
   "source": [
    "seq"
   ]
  },
  {
   "cell_type": "code",
   "execution_count": 9,
   "id": "c0250f15",
   "metadata": {},
   "outputs": [
    {
     "data": {
      "text/plain": [
       "[2, 4, 6, 30]"
      ]
     },
     "execution_count": 9,
     "metadata": {},
     "output_type": "execute_result"
    }
   ],
   "source": [
    "# omitting start index\n",
    "seq[ : 4]"
   ]
  },
  {
   "cell_type": "code",
   "execution_count": 10,
   "id": "be2616e5",
   "metadata": {},
   "outputs": [
    {
     "data": {
      "text/plain": [
       "[12, 14, 16, 18, 20]"
      ]
     },
     "execution_count": 10,
     "metadata": {},
     "output_type": "execute_result"
    }
   ],
   "source": [
    "# omitting stop index\n",
    "seq[5 : ]"
   ]
  },
  {
   "cell_type": "markdown",
   "id": "f76c17b1",
   "metadata": {},
   "source": [
    "#### We can also use negative indexing. The negative indexing means start from the end. \n",
    "#### For example, -1 refers to the last item. -2 refers to the second last item. "
   ]
  },
  {
   "attachments": {
    "image.png": {
     "image/png": "[encoded data removed]"
    }
   },
   "cell_type": "markdown",
   "id": "655c4e9d",
   "metadata": {},
   "source": [
    "![image.png](attachment:image.png)"
   ]
  },
  {
   "cell_type": "code",
   "execution_count": 81,
   "id": "350d74ac",
   "metadata": {},
   "outputs": [],
   "source": [
    "newSeq = ['H','E','L','L','O','!']"
   ]
  },
  {
   "cell_type": "code",
   "execution_count": 82,
   "id": "49ea960d-b363-46c3-95c4-ac49aa405fdd",
   "metadata": {},
   "outputs": [
    {
     "data": {
      "text/plain": [
       "['L', 'L']"
      ]
     },
     "execution_count": 82,
     "metadata": {},
     "output_type": "execute_result"
    }
   ],
   "source": [
    "newSeq[2:4]"
   ]
  },
  {
   "cell_type": "code",
   "execution_count": 83,
   "id": "f3e6289a-a18d-4cf1-b27a-b131737ad024",
   "metadata": {},
   "outputs": [
    {
     "data": {
      "text/plain": [
       "['E', 'L', 'L']"
      ]
     },
     "execution_count": 83,
     "metadata": {},
     "output_type": "execute_result"
    }
   ],
   "source": [
    "newSeq[-5:-2]"
   ]
  },
  {
   "cell_type": "markdown",
   "id": "8aef3efd",
   "metadata": {},
   "source": [
    "#### If we want to skip the elements while slicing, we can provide a step after the second colon\n",
    "#### [start : stop : step]"
   ]
  },
  {
   "cell_type": "code",
   "execution_count": 84,
   "id": "12af833b",
   "metadata": {},
   "outputs": [
    {
     "data": {
      "text/plain": [
       "[3, 4, 5, 30, 40, 8, 9, 10, 11, 12, 13, 14, 15, 16, 17, 18, 19]"
      ]
     },
     "execution_count": 84,
     "metadata": {},
     "output_type": "execute_result"
    }
   ],
   "source": [
    "seq"
   ]
  },
  {
   "cell_type": "code",
   "execution_count": 86,
   "id": "67e2f994",
   "metadata": {},
   "outputs": [
    {
     "data": {
      "text/plain": [
       "[3, 30, 9, 12, 15, 18]"
      ]
     },
     "execution_count": 86,
     "metadata": {},
     "output_type": "execute_result"
    }
   ],
   "source": [
    "seq[::3]"
   ]
  },
  {
   "cell_type": "code",
   "execution_count": 91,
   "id": "cc39b6e4",
   "metadata": {},
   "outputs": [
    {
     "data": {
      "text/plain": [
       "[19, 17, 15, 13, 11, 9, 40, 5, 3]"
      ]
     },
     "execution_count": 91,
     "metadata": {},
     "output_type": "execute_result"
    }
   ],
   "source": [
    "# If we use the negative value for the step, the list or tuple will be reversed.\n",
    "seq[::-2]"
   ]
  },
  {
   "cell_type": "code",
   "execution_count": 29,
   "id": "546379f4",
   "metadata": {},
   "outputs": [
    {
     "data": {
      "text/plain": [
       "[5, 10, 15, 20, 25, 30, 35, 40, 45, 50]"
      ]
     },
     "execution_count": 29,
     "metadata": {},
     "output_type": "execute_result"
    }
   ],
   "source": [
    "a = list(range(5,51,5))\n",
    "a"
   ]
  },
  {
   "cell_type": "code",
   "execution_count": 30,
   "id": "36994a2d",
   "metadata": {},
   "outputs": [
    {
     "data": {
      "text/plain": [
       "[5, 10, 15, 20]"
      ]
     },
     "execution_count": 30,
     "metadata": {},
     "output_type": "execute_result"
    }
   ],
   "source": [
    "a[:4]"
   ]
  },
  {
   "cell_type": "code",
   "execution_count": 34,
   "id": "2ec04aba",
   "metadata": {},
   "outputs": [
    {
     "data": {
      "text/plain": [
       "[35, 40, 45, 50]"
      ]
     },
     "execution_count": 34,
     "metadata": {},
     "output_type": "execute_result"
    }
   ],
   "source": [
    "a[-4:]"
   ]
  },
  {
   "attachments": {},
   "cell_type": "markdown",
   "id": "63400d33",
   "metadata": {},
   "source": [
    "<h3> Enumerate </h3>\n",
    "<font size = \"+1\"> When we work with iterators, we need to keep a track of the iterators. \n",
    "Python has a built-in function enumerate which returns a sequence of (i, value) tuple"
   ]
  },
  {
   "cell_type": "code",
   "execution_count": 12,
   "id": "fa3ab596",
   "metadata": {},
   "outputs": [],
   "source": [
    "newSeq = ['H','E','L','L','O','!']"
   ]
  },
  {
   "cell_type": "code",
   "execution_count": 14,
   "id": "71adb1b1",
   "metadata": {},
   "outputs": [
    {
     "data": {
      "text/plain": [
       "[(0, 'H'), (1, 'E'), (2, 'L'), (3, 'L'), (4, 'O'), (5, '!')]"
      ]
     },
     "execution_count": 14,
     "metadata": {},
     "output_type": "execute_result"
    }
   ],
   "source": [
    "list(enumerate(newSeq))"
   ]
  },
  {
   "cell_type": "code",
   "execution_count": 10,
   "id": "f9b008e6",
   "metadata": {},
   "outputs": [
    {
     "name": "stdout",
     "output_type": "stream",
     "text": [
      "0 H\n",
      "1 E\n",
      "2 L\n",
      "3 L\n",
      "4 O\n",
      "5 !\n"
     ]
    }
   ],
   "source": [
    "for i,j in enumerate(newSeq):\n",
    "    print(i,j)"
   ]
  },
  {
   "attachments": {},
   "cell_type": "markdown",
   "id": "60d0bd41",
   "metadata": {},
   "source": [
    "<h3> Sorted </h3><font size = \"+1\"> To get new sorted list from the elements of any sequence, we used sorted method"
   ]
  },
  {
   "cell_type": "code",
   "execution_count": 13,
   "id": "5a8f21d6",
   "metadata": {},
   "outputs": [
    {
     "data": {
      "text/plain": [
       "['!', 'E', 'H', 'L', 'L', 'O']"
      ]
     },
     "execution_count": 13,
     "metadata": {},
     "output_type": "execute_result"
    }
   ],
   "source": [
    "sorted(newSeq)"
   ]
  },
  {
   "cell_type": "code",
   "execution_count": 14,
   "id": "af6afbed",
   "metadata": {},
   "outputs": [
    {
     "data": {
      "text/plain": [
       "['H', 'E', 'L', 'L', 'O', '!']"
      ]
     },
     "execution_count": 14,
     "metadata": {},
     "output_type": "execute_result"
    }
   ],
   "source": [
    "newSeq"
   ]
  },
  {
   "cell_type": "code",
   "execution_count": 99,
   "id": "7235644e",
   "metadata": {},
   "outputs": [
    {
     "data": {
      "text/plain": [
       "[' ', 'P', 'T', 'h', 'h', 'i', 'n', 'o', 's', 't', 'y']"
      ]
     },
     "execution_count": 99,
     "metadata": {},
     "output_type": "execute_result"
    }
   ],
   "source": [
    "sorted(\"This Python\")"
   ]
  },
  {
   "cell_type": "code",
   "execution_count": 186,
   "id": "3401daad",
   "metadata": {
    "scrolled": true
   },
   "outputs": [
    {
     "data": {
      "text/plain": [
       "[2, 4, 4, 5, 44]"
      ]
     },
     "execution_count": 186,
     "metadata": {},
     "output_type": "execute_result"
    }
   ],
   "source": [
    "sorted((4,2,44,4,5))"
   ]
  },
  {
   "cell_type": "markdown",
   "id": "253a7807",
   "metadata": {},
   "source": [
    "<h3> Zip\n",
    "<h4> Using zip method, you can pair up the elements of a number of lists, tuples, or other sequence. Output of the zip method is a list of tuples"
   ]
  },
  {
   "cell_type": "code",
   "execution_count": 16,
   "id": "55641d2a",
   "metadata": {},
   "outputs": [],
   "source": [
    "seq1 = ['def' ,'abc', 'ghi']\n",
    "seq2 = ['mno' ,'pqr', 'jkl']\n",
    "seq3 = ['mno' ,'pqr', 'jkl']"
   ]
  },
  {
   "cell_type": "code",
   "execution_count": 17,
   "id": "6ea5d07a",
   "metadata": {},
   "outputs": [
    {
     "data": {
      "text/plain": [
       "[('def', 'mno'), ('abc', 'pqr'), ('ghi', 'jkl')]"
      ]
     },
     "execution_count": 17,
     "metadata": {},
     "output_type": "execute_result"
    }
   ],
   "source": [
    "list(zip(seq1, seq2))"
   ]
  },
  {
   "cell_type": "code",
   "execution_count": 19,
   "id": "c7d015c0",
   "metadata": {},
   "outputs": [
    {
     "name": "stdout",
     "output_type": "stream",
     "text": [
      "def mno mno\n",
      "abc pqr pqr\n",
      "ghi jkl jkl\n"
     ]
    }
   ],
   "source": [
    "for i,j,k in zip(seq1, seq2, seq3):\n",
    "    print(i,j,k)\n"
   ]
  },
  {
   "cell_type": "code",
   "execution_count": 20,
   "id": "c1e11996",
   "metadata": {},
   "outputs": [],
   "source": [
    "zipped = zip(sorted(seq1), sorted(seq2))"
   ]
  },
  {
   "cell_type": "code",
   "execution_count": 22,
   "id": "0a98db60",
   "metadata": {},
   "outputs": [
    {
     "data": {
      "text/plain": [
       "[]"
      ]
     },
     "execution_count": 22,
     "metadata": {},
     "output_type": "execute_result"
    }
   ],
   "source": [
    "list(zipped)"
   ]
  },
  {
   "cell_type": "markdown",
   "id": "0405c72f",
   "metadata": {},
   "source": [
    "<h4> We can zip any number of sequences. \n",
    "<br><br> The number of elements it produces depends on the shortest sequences. \n"
   ]
  },
  {
   "cell_type": "code",
   "execution_count": 6,
   "id": "2e88b380",
   "metadata": {},
   "outputs": [],
   "source": [
    "seq3 = [True, False]"
   ]
  },
  {
   "cell_type": "code",
   "execution_count": 7,
   "id": "ac201d51",
   "metadata": {},
   "outputs": [
    {
     "data": {
      "text/plain": [
       "[(True, 'abc', 'jkl'), (False, 'def', 'mno')]"
      ]
     },
     "execution_count": 7,
     "metadata": {},
     "output_type": "execute_result"
    }
   ],
   "source": [
    "list(zip(seq3, seq1, seq2))"
   ]
  },
  {
   "cell_type": "markdown",
   "id": "def9f8df",
   "metadata": {},
   "source": [
    "<h4> A common use case of zip is to iterate over multiple sequences and possibly along with enumerate:"
   ]
  },
  {
   "cell_type": "code",
   "execution_count": 8,
   "id": "74f45599-7a5c-4a4b-ae89-835360940f70",
   "metadata": {},
   "outputs": [
    {
     "name": "stdout",
     "output_type": "stream",
     "text": [
      "0: abc, jkl\n",
      "1: def, mno\n",
      "2: ghi, pqr\n"
     ]
    }
   ],
   "source": [
    "for i, (a,b) in enumerate(zip(seq1, seq2)):\n",
    "    print('{0}: {1}, {2}'.format(i, a, b)) "
   ]
  },
  {
   "cell_type": "markdown",
   "id": "52315bfd",
   "metadata": {},
   "source": [
    "<h4> You can also unzip the list of tuples if you want to separate the element of each tuple in independent sequence. <br><br> For this, you can use zip() along with unpacking operator *!"
   ]
  },
  {
   "cell_type": "code",
   "execution_count": 9,
   "id": "02c4fc75",
   "metadata": {},
   "outputs": [
    {
     "data": {
      "text/plain": [
       "[(1, 'a'), (2, 'b'), (3, 'c'), (4, 'd')]"
      ]
     },
     "execution_count": 9,
     "metadata": {},
     "output_type": "execute_result"
    }
   ],
   "source": [
    "pairs = [(1, 'a'), (2, 'b'), (3, 'c'), (4, 'd')] \n",
    "pairs"
   ]
  },
  {
   "cell_type": "code",
   "execution_count": 10,
   "id": "6309b780",
   "metadata": {},
   "outputs": [],
   "source": [
    "num, letter = zip(*pairs)"
   ]
  },
  {
   "cell_type": "code",
   "execution_count": 11,
   "id": "7472eed4",
   "metadata": {},
   "outputs": [
    {
     "data": {
      "text/plain": [
       "(1, 2, 3, 4)"
      ]
     },
     "execution_count": 11,
     "metadata": {},
     "output_type": "execute_result"
    }
   ],
   "source": [
    "num"
   ]
  },
  {
   "cell_type": "code",
   "execution_count": 12,
   "id": "930edc32",
   "metadata": {},
   "outputs": [
    {
     "data": {
      "text/plain": [
       "('a', 'b', 'c', 'd')"
      ]
     },
     "execution_count": 12,
     "metadata": {},
     "output_type": "execute_result"
    }
   ],
   "source": [
    "letter"
   ]
  },
  {
   "cell_type": "markdown",
   "id": "87908255",
   "metadata": {},
   "source": [
    "<h3> Reversed()\n",
    "<h4> The reversed() function returns the reversed iterator of the given sequence.\n",
    "<br><br> Please note that reversed is a generator. It can create the reversed sequence with list or a for loop."
   ]
  },
  {
   "cell_type": "code",
   "execution_count": 21,
   "id": "63606eb8",
   "metadata": {},
   "outputs": [
    {
     "data": {
      "text/plain": [
       "<list_reverseiterator at 0x1a778bbef20>"
      ]
     },
     "execution_count": 21,
     "metadata": {},
     "output_type": "execute_result"
    }
   ],
   "source": [
    "reversed(pairs)"
   ]
  },
  {
   "cell_type": "code",
   "execution_count": 16,
   "id": "04419a79",
   "metadata": {},
   "outputs": [
    {
     "data": {
      "text/plain": [
       "[(4, 'd'), (3, 'c'), (2, 'b'), (1, 'a')]"
      ]
     },
     "execution_count": 16,
     "metadata": {},
     "output_type": "execute_result"
    }
   ],
   "source": [
    "list(reversed(pairs))"
   ]
  },
  {
   "cell_type": "code",
   "execution_count": 19,
   "id": "2d90155d",
   "metadata": {},
   "outputs": [
    {
     "name": "stdout",
     "output_type": "stream",
     "text": [
      "9\n",
      "8\n",
      "7\n",
      "6\n",
      "5\n",
      "4\n",
      "3\n",
      "2\n",
      "1\n",
      "0\n"
     ]
    }
   ],
   "source": [
    "for i in reversed(range(10)): print(i)"
   ]
  },
  {
   "cell_type": "code",
   "execution_count": 20,
   "id": "7769cba3",
   "metadata": {},
   "outputs": [
    {
     "data": {
      "text/plain": [
       "['n', 'o', 'h', 't', 'y', 'P']"
      ]
     },
     "execution_count": 20,
     "metadata": {},
     "output_type": "execute_result"
    }
   ],
   "source": [
    "list(reversed(\"Python\"))"
   ]
  },
  {
   "cell_type": "markdown",
   "id": "3cf5edf9",
   "metadata": {},
   "source": [
    "<h2>3. dict </h2><br>\n",
    "<font size = \"+0.5\">\n",
    "    1. Dictionaries are used to store data values in <b>key : value</b> pairs whereas key and value are python objects. <br><br>\n",
    "2. The dict use curly braces { } and colons to separate keys and values and they can be referred to by using the key name. <br><br>3. The dict is a collection which is <b> ordered, changeable and does not allow duplicates</b>.\n"
   ]
  },
  {
   "cell_type": "code",
   "execution_count": 37,
   "id": "9661a16d",
   "metadata": {},
   "outputs": [
    {
     "data": {
      "text/plain": [
       "{'a': 'some string', 'b': [1, 2, 3, 4], 'c': (7, 8, 9)}"
      ]
     },
     "execution_count": 37,
     "metadata": {},
     "output_type": "execute_result"
    }
   ],
   "source": [
    "d1 = {\n",
    "    'a' : 'some string',\n",
    "    'b' : [1, 2, 3, 4],\n",
    "    'c' : (7,8,9)\n",
    "}\n",
    "d1"
   ]
  },
  {
   "cell_type": "code",
   "execution_count": 38,
   "id": "471ed660",
   "metadata": {},
   "outputs": [
    {
     "data": {
      "text/plain": [
       "'some string'"
      ]
     },
     "execution_count": 38,
     "metadata": {},
     "output_type": "execute_result"
    }
   ],
   "source": [
    "d1['a']"
   ]
  },
  {
   "cell_type": "markdown",
   "id": "7a3271dc",
   "metadata": {},
   "source": [
    "Adding new element in a dict"
   ]
  },
  {
   "cell_type": "code",
   "execution_count": 39,
   "id": "6332ed00",
   "metadata": {},
   "outputs": [],
   "source": [
    "d1[7] = \"seven\""
   ]
  },
  {
   "cell_type": "code",
   "execution_count": 40,
   "id": "da2d2626",
   "metadata": {},
   "outputs": [
    {
     "data": {
      "text/plain": [
       "{'a': 'some string', 'b': [1, 2, 3, 4], 'c': (7, 8, 9), 7: 'seven'}"
      ]
     },
     "execution_count": 40,
     "metadata": {},
     "output_type": "execute_result"
    }
   ],
   "source": [
    "d1"
   ]
  },
  {
   "cell_type": "markdown",
   "id": "a57907e2",
   "metadata": {},
   "source": [
    "You can check if the dict contains a key using in keyword."
   ]
  },
  {
   "cell_type": "code",
   "execution_count": 41,
   "id": "853da35a",
   "metadata": {},
   "outputs": [
    {
     "data": {
      "text/plain": [
       "True"
      ]
     },
     "execution_count": 41,
     "metadata": {},
     "output_type": "execute_result"
    }
   ],
   "source": [
    "'b' in d1"
   ]
  },
  {
   "attachments": {},
   "cell_type": "markdown",
   "id": "2705021b",
   "metadata": {},
   "source": [
    "In order to delete values, you can either use del keyword or pop method. pop method deletes the key and returns the value.<br>\n",
    "There is other method called popitem too, let see how these works"
   ]
  },
  {
   "cell_type": "code",
   "execution_count": 42,
   "id": "000082c1",
   "metadata": {},
   "outputs": [],
   "source": [
    "del d1[7]"
   ]
  },
  {
   "cell_type": "code",
   "execution_count": 43,
   "id": "5f177871",
   "metadata": {},
   "outputs": [
    {
     "data": {
      "text/plain": [
       "{'a': 'some string', 'b': [1, 2, 3, 4], 'c': (7, 8, 9)}"
      ]
     },
     "execution_count": 43,
     "metadata": {},
     "output_type": "execute_result"
    }
   ],
   "source": [
    "d1"
   ]
  },
  {
   "cell_type": "code",
   "execution_count": 44,
   "id": "cb513f5d",
   "metadata": {},
   "outputs": [
    {
     "data": {
      "text/plain": [
       "[1, 2, 3, 4]"
      ]
     },
     "execution_count": 44,
     "metadata": {},
     "output_type": "execute_result"
    }
   ],
   "source": [
    "d1.pop('b')"
   ]
  },
  {
   "cell_type": "code",
   "execution_count": 45,
   "id": "fa4b14f7",
   "metadata": {},
   "outputs": [
    {
     "data": {
      "text/plain": [
       "{'a': 'some string', 'c': (7, 8, 9)}"
      ]
     },
     "execution_count": 45,
     "metadata": {},
     "output_type": "execute_result"
    }
   ],
   "source": [
    "d1"
   ]
  },
  {
   "cell_type": "code",
   "execution_count": 46,
   "id": "c4ee350b",
   "metadata": {},
   "outputs": [
    {
     "data": {
      "text/plain": [
       "('c', (7, 8, 9))"
      ]
     },
     "execution_count": 46,
     "metadata": {},
     "output_type": "execute_result"
    }
   ],
   "source": [
    "d1.popitem()"
   ]
  },
  {
   "cell_type": "code",
   "execution_count": 47,
   "id": "98f8ec19",
   "metadata": {},
   "outputs": [
    {
     "data": {
      "text/plain": [
       "{'a': 'some string'}"
      ]
     },
     "execution_count": 47,
     "metadata": {},
     "output_type": "execute_result"
    }
   ],
   "source": [
    "d1"
   ]
  },
  {
   "attachments": {},
   "cell_type": "markdown",
   "id": "4f4e6ec7",
   "metadata": {},
   "source": [
    "<h3>pop vs popitem </h3>\n",
    "Although we use pop() and popitem() to remove elements from a dictionary, they are actually different.<br> pop() can remove any item from a dictionary as long as you specify the key.<br> On the other hand, popitem() can only remove and return the value of the last element in the dictionary."
   ]
  },
  {
   "cell_type": "code",
   "execution_count": 28,
   "id": "188b7b11",
   "metadata": {},
   "outputs": [
    {
     "data": {
      "text/plain": [
       "{'brand': 'Ford',\n",
       " 'electric': False,\n",
       " 'year': 1964,\n",
       " 'colors': ['red', 'white', 'blue']}"
      ]
     },
     "execution_count": 28,
     "metadata": {},
     "output_type": "execute_result"
    }
   ],
   "source": [
    "thisdict = {\n",
    "  \"brand\": \"Ford\",\n",
    "  \"electric\": False,\n",
    "  \"year\": 1964,\n",
    "  \"colors\": [\"red\", \"white\", \"blue\"]\n",
    "}\n",
    "thisdict"
   ]
  },
  {
   "cell_type": "code",
   "execution_count": 30,
   "id": "5d41279a",
   "metadata": {},
   "outputs": [
    {
     "data": {
      "text/plain": [
       "['brand', 'electric', 'year', 'colors']"
      ]
     },
     "execution_count": 30,
     "metadata": {},
     "output_type": "execute_result"
    }
   ],
   "source": [
    "list(thisdict.keys())"
   ]
  },
  {
   "cell_type": "code",
   "execution_count": 52,
   "id": "f9a397e0",
   "metadata": {},
   "outputs": [
    {
     "data": {
      "text/plain": [
       "['Ford', False, 1964, ['red', 'white', 'blue']]"
      ]
     },
     "execution_count": 52,
     "metadata": {},
     "output_type": "execute_result"
    }
   ],
   "source": [
    "list(thisdict.values())"
   ]
  },
  {
   "cell_type": "code",
   "execution_count": 61,
   "id": "3e6b9b6c",
   "metadata": {},
   "outputs": [],
   "source": [
    "d2 = {\"name\": \"1964 Mustang\", \"colors\": ['white','blue']}"
   ]
  },
  {
   "cell_type": "markdown",
   "id": "31301507",
   "metadata": {},
   "source": [
    "To merge one dict with another, you can use update method.<br> If the key given in update method already exists, the value is updated else the key values would be inserted."
   ]
  },
  {
   "cell_type": "code",
   "execution_count": 62,
   "id": "00ef43fa",
   "metadata": {},
   "outputs": [],
   "source": [
    "thisdict.update(d2)"
   ]
  },
  {
   "cell_type": "code",
   "execution_count": 63,
   "id": "9777571b",
   "metadata": {},
   "outputs": [
    {
     "data": {
      "text/plain": [
       "{'brand': 'Ford',\n",
       " 'electric': False,\n",
       " 'year': 1964,\n",
       " 'colors': ['white', 'blue'],\n",
       " 'name': '1964 Mustang'}"
      ]
     },
     "execution_count": 63,
     "metadata": {},
     "output_type": "execute_result"
    }
   ],
   "source": [
    "thisdict"
   ]
  },
  {
   "cell_type": "code",
   "execution_count": 68,
   "id": "d0d865a2",
   "metadata": {},
   "outputs": [
    {
     "data": {
      "text/plain": [
       "[('brand', 'Ford'),\n",
       " ('electric', False),\n",
       " ('year', 1964),\n",
       " ('colors', ['white', 'blue']),\n",
       " ('name', '1964 Mustang')]"
      ]
     },
     "execution_count": 68,
     "metadata": {},
     "output_type": "execute_result"
    }
   ],
   "source": [
    "list(thisdict.items())"
   ]
  },
  {
   "cell_type": "markdown",
   "id": "91587276",
   "metadata": {},
   "source": [
    "The dict is a collection of 2-tuples, the dict function accepts a list of 2-tuples."
   ]
  },
  {
   "cell_type": "code",
   "execution_count": 65,
   "id": "d711a4f5",
   "metadata": {},
   "outputs": [
    {
     "name": "stdout",
     "output_type": "stream",
     "text": [
      "brand\n",
      "electric\n",
      "year\n",
      "colors\n",
      "name\n"
     ]
    }
   ],
   "source": [
    "for i in thisdict:\n",
    "    print(i)"
   ]
  },
  {
   "cell_type": "code",
   "execution_count": 66,
   "id": "ad6ab574",
   "metadata": {},
   "outputs": [
    {
     "name": "stdout",
     "output_type": "stream",
     "text": [
      "Ford\n",
      "False\n",
      "1964\n",
      "['white', 'blue']\n",
      "1964 Mustang\n"
     ]
    }
   ],
   "source": [
    "for i in thisdict:\n",
    "    print(thisdict[i])"
   ]
  },
  {
   "cell_type": "code",
   "execution_count": 67,
   "id": "47ec339f",
   "metadata": {},
   "outputs": [
    {
     "name": "stdout",
     "output_type": "stream",
     "text": [
      "Ford\n",
      "False\n",
      "1964\n",
      "['white', 'blue']\n",
      "1964 Mustang\n"
     ]
    }
   ],
   "source": [
    "for i in thisdict.values():\n",
    "    print(i)"
   ]
  },
  {
   "cell_type": "code",
   "execution_count": 71,
   "id": "33c42bbb",
   "metadata": {},
   "outputs": [
    {
     "name": "stdout",
     "output_type": "stream",
     "text": [
      "brand  =>  Ford\n",
      "electric  =>  False\n",
      "year  =>  1964\n",
      "colors  =>  ['white', 'blue']\n",
      "name  =>  1964 Mustang\n"
     ]
    }
   ],
   "source": [
    "for i,j in thisdict.items():\n",
    "    print(i, \" => \", j)"
   ]
  },
  {
   "cell_type": "code",
   "execution_count": 18,
   "id": "aeb61baa",
   "metadata": {
    "tags": []
   },
   "outputs": [
    {
     "data": {
      "text/plain": [
       "{0: 4, 1: 3, 2: 2, 3: 1, 4: 0}"
      ]
     },
     "execution_count": 18,
     "metadata": {},
     "output_type": "execute_result"
    }
   ],
   "source": [
    "mapping = dict(zip(range(5), reversed(range(5))))\n",
    "mapping"
   ]
  },
  {
   "cell_type": "markdown",
   "id": "5a24b0e6",
   "metadata": {},
   "source": [
    "<h2> 4. Set </h2><br>\n",
    "<font size = \"+0.5\">1. A set is an unordered and immutable collection of unique elements.<br><br>\n",
    "2. They are like dict with only keys and without values <br><br>\n",
    "3. Unordered means that the items in a set do not have a defined order. <br><br>\n",
    "4. Set items can appear in a different order every time you use them, and cannot be referred to by index or key. <br><br>\n",
    "5. You can create a set using two-methods:\n",
    "    <ul><li>Using set functions<br><br></li>\n",
    "    <li>Using set literal with curly braces"
   ]
  },
  {
   "cell_type": "code",
   "execution_count": 11,
   "id": "fab7a093",
   "metadata": {},
   "outputs": [
    {
     "data": {
      "text/plain": [
       "{1, 2, 3}"
      ]
     },
     "execution_count": 11,
     "metadata": {},
     "output_type": "execute_result"
    }
   ],
   "source": [
    "aset = set([1,2,3,3,2,1])\n",
    "aset"
   ]
  },
  {
   "cell_type": "code",
   "execution_count": 81,
   "id": "70d625d7",
   "metadata": {},
   "outputs": [
    {
     "data": {
      "text/plain": [
       "{1, 2, 3}"
      ]
     },
     "execution_count": 81,
     "metadata": {},
     "output_type": "execute_result"
    }
   ],
   "source": [
    "{2,2,3,3,1,1}"
   ]
  },
  {
   "cell_type": "markdown",
   "id": "ab670aee",
   "metadata": {},
   "source": [
    "<font size = \"+0.5\"> Using the sets, you can perform mathematical set operations such as union, intersection, difference, and symmetric difference."
   ]
  },
  {
   "cell_type": "code",
   "execution_count": 8,
   "id": "8f374ccb",
   "metadata": {},
   "outputs": [],
   "source": [
    "bset = {3,4,5,6}"
   ]
  },
  {
   "cell_type": "markdown",
   "id": "83252d7b",
   "metadata": {},
   "source": [
    "Two set union by using union function or using | operator"
   ]
  },
  {
   "cell_type": "code",
   "execution_count": 9,
   "id": "9f1d201c",
   "metadata": {},
   "outputs": [
    {
     "data": {
      "text/plain": [
       "{1, 2, 3, 4, 5, 6}"
      ]
     },
     "execution_count": 9,
     "metadata": {},
     "output_type": "execute_result"
    }
   ],
   "source": [
    "aset.union(bset)"
   ]
  },
  {
   "cell_type": "code",
   "execution_count": 86,
   "id": "895713ce",
   "metadata": {},
   "outputs": [
    {
     "data": {
      "text/plain": [
       "{1, 2, 3, 4, 5, 6}"
      ]
     },
     "execution_count": 86,
     "metadata": {},
     "output_type": "execute_result"
    }
   ],
   "source": [
    "aset | bset"
   ]
  },
  {
   "cell_type": "code",
   "execution_count": 10,
   "id": "0a966f57",
   "metadata": {},
   "outputs": [
    {
     "data": {
      "text/plain": [
       "{1, 2, 3}"
      ]
     },
     "execution_count": 10,
     "metadata": {},
     "output_type": "execute_result"
    }
   ],
   "source": [
    "aset"
   ]
  },
  {
   "cell_type": "markdown",
   "id": "5689b1a4",
   "metadata": {},
   "source": [
    "Update set by using update function or using |= operator"
   ]
  },
  {
   "cell_type": "code",
   "execution_count": 12,
   "id": "83ef0ef0",
   "metadata": {},
   "outputs": [],
   "source": [
    "aset.update({5,4,3,2})"
   ]
  },
  {
   "cell_type": "code",
   "execution_count": 13,
   "id": "12d037c7",
   "metadata": {},
   "outputs": [
    {
     "data": {
      "text/plain": [
       "{1, 2, 3, 4, 5}"
      ]
     },
     "execution_count": 13,
     "metadata": {},
     "output_type": "execute_result"
    }
   ],
   "source": [
    "aset"
   ]
  },
  {
   "cell_type": "code",
   "execution_count": 13,
   "id": "7b387557",
   "metadata": {},
   "outputs": [],
   "source": [
    "# aset = aset | {6, 7}\n",
    "aset |= {6,7}"
   ]
  },
  {
   "cell_type": "code",
   "execution_count": 14,
   "id": "ccb24cec",
   "metadata": {},
   "outputs": [
    {
     "data": {
      "text/plain": [
       "{1, 2, 3, 4, 5, 6, 7}"
      ]
     },
     "execution_count": 14,
     "metadata": {},
     "output_type": "execute_result"
    }
   ],
   "source": [
    "aset"
   ]
  },
  {
   "cell_type": "markdown",
   "id": "30463131",
   "metadata": {},
   "source": [
    "The intersection method will return a new set, that only contains the items that are present in both\n",
    "sets. You can either use intersection method or & operator."
   ]
  },
  {
   "cell_type": "code",
   "execution_count": 1,
   "id": "19cb6048",
   "metadata": {},
   "outputs": [
    {
     "data": {
      "text/plain": [
       "{4, 5}"
      ]
     },
     "execution_count": 1,
     "metadata": {},
     "output_type": "execute_result"
    }
   ],
   "source": [
    "{1,2,3,4,5}.intersection({4,5,6,7})"
   ]
  },
  {
   "cell_type": "code",
   "execution_count": 2,
   "id": "b0b8ebcf",
   "metadata": {},
   "outputs": [
    {
     "data": {
      "text/plain": [
       "{4, 5}"
      ]
     },
     "execution_count": 2,
     "metadata": {},
     "output_type": "execute_result"
    }
   ],
   "source": [
    "{1,2,3,4,5} & {4,5,6,7}"
   ]
  },
  {
   "cell_type": "markdown",
   "id": "49f22ecc",
   "metadata": {},
   "source": [
    "The intersection_update() method will keep only the items that are present in both set. You can also\n",
    "use &= operator in place of intersection_update method."
   ]
  },
  {
   "cell_type": "code",
   "execution_count": 3,
   "id": "5211358e",
   "metadata": {},
   "outputs": [],
   "source": [
    "a = {1,2,3,4,5}"
   ]
  },
  {
   "cell_type": "code",
   "execution_count": 4,
   "id": "da1a4bc8",
   "metadata": {},
   "outputs": [],
   "source": [
    "b = {4,5,6,7}"
   ]
  },
  {
   "cell_type": "code",
   "execution_count": 5,
   "id": "6f7fc3dc",
   "metadata": {},
   "outputs": [],
   "source": [
    "a.intersection_update(b)"
   ]
  },
  {
   "cell_type": "code",
   "execution_count": 6,
   "id": "5c3f554b",
   "metadata": {},
   "outputs": [
    {
     "data": {
      "text/plain": [
       "{4, 5}"
      ]
     },
     "execution_count": 6,
     "metadata": {},
     "output_type": "execute_result"
    }
   ],
   "source": [
    "a"
   ]
  },
  {
   "cell_type": "code",
   "execution_count": 7,
   "id": "041455de",
   "metadata": {},
   "outputs": [
    {
     "data": {
      "text/plain": [
       "{4, 5, 6, 7}"
      ]
     },
     "execution_count": 7,
     "metadata": {},
     "output_type": "execute_result"
    }
   ],
   "source": [
    "b"
   ]
  },
  {
   "cell_type": "code",
   "execution_count": 10,
   "id": "e27b9ebf",
   "metadata": {},
   "outputs": [
    {
     "data": {
      "text/plain": [
       "{1, 2, 3}"
      ]
     },
     "execution_count": 10,
     "metadata": {},
     "output_type": "execute_result"
    }
   ],
   "source": [
    "{1,2,3}"
   ]
  },
  {
   "cell_type": "markdown",
   "id": "4a760366",
   "metadata": {},
   "source": [
    "The difference() method will return a new set, that contains the elements in a that are not in b."
   ]
  },
  {
   "cell_type": "code",
   "execution_count": 15,
   "id": "fe789f8d",
   "metadata": {},
   "outputs": [],
   "source": [
    "a = {1,2,3,4,5}\n",
    "b = {4,5,6,7}"
   ]
  },
  {
   "cell_type": "code",
   "execution_count": 12,
   "id": "64dd3f73",
   "metadata": {},
   "outputs": [
    {
     "data": {
      "text/plain": [
       "{1, 2, 3}"
      ]
     },
     "execution_count": 12,
     "metadata": {},
     "output_type": "execute_result"
    }
   ],
   "source": [
    "a.difference(b)"
   ]
  },
  {
   "cell_type": "code",
   "execution_count": 16,
   "id": "e7801f34",
   "metadata": {},
   "outputs": [
    {
     "data": {
      "text/plain": [
       "{1, 2, 3}"
      ]
     },
     "execution_count": 16,
     "metadata": {},
     "output_type": "execute_result"
    }
   ],
   "source": [
    "a - b"
   ]
  },
  {
   "cell_type": "markdown",
   "id": "ef8625d1",
   "metadata": {},
   "source": [
    "The symmetric_difference() method will return a new set, that contains only the elements that are NOT present in both sets."
   ]
  },
  {
   "cell_type": "code",
   "execution_count": 13,
   "id": "6b340e78",
   "metadata": {},
   "outputs": [
    {
     "data": {
      "text/plain": [
       "{1, 2, 3, 6, 7}"
      ]
     },
     "execution_count": 13,
     "metadata": {},
     "output_type": "execute_result"
    }
   ],
   "source": [
    "a.symmetric_difference(b)"
   ]
  },
  {
   "cell_type": "markdown",
   "id": "5f1b4c1b",
   "metadata": {},
   "source": [
    "You can also check if a set is a subset of (is contained in) or a superset of(contains all elements of) another set:"
   ]
  },
  {
   "cell_type": "code",
   "execution_count": 14,
   "id": "c0f745b9",
   "metadata": {},
   "outputs": [
    {
     "data": {
      "text/plain": [
       "True"
      ]
     },
     "execution_count": 14,
     "metadata": {},
     "output_type": "execute_result"
    }
   ],
   "source": [
    "{1,2,3}.issubset({0,1,2,3,4,5})"
   ]
  },
  {
   "cell_type": "code",
   "execution_count": 15,
   "id": "1386f420",
   "metadata": {},
   "outputs": [
    {
     "data": {
      "text/plain": [
       "True"
      ]
     },
     "execution_count": 15,
     "metadata": {},
     "output_type": "execute_result"
    }
   ],
   "source": [
    "{0,1,2,3,4,5}.issuperset({1,2,3})"
   ]
  },
  {
   "cell_type": "markdown",
   "id": "aa768156",
   "metadata": {},
   "source": [
    "Sets are equal if and only if their contents are equal"
   ]
  },
  {
   "cell_type": "code",
   "execution_count": 17,
   "id": "86433a9b",
   "metadata": {},
   "outputs": [
    {
     "data": {
      "text/plain": [
       "True"
      ]
     },
     "execution_count": 17,
     "metadata": {},
     "output_type": "execute_result"
    }
   ],
   "source": [
    "{1,2,3} == {3,2,1}"
   ]
  },
  {
   "cell_type": "markdown",
   "id": "d4401477",
   "metadata": {},
   "source": [
    "<h2> 5. List Comprehension </h2><br>\n",
    "<font size = \"+0.5\"> List comprehension offers a shorter syntax when you want to create a new list based on the values of an existing list.<br>\n",
    "Without list comprehension you will have to write a for statement with a conditional test inside."
   ]
  },
  {
   "cell_type": "code",
   "execution_count": 18,
   "id": "6bd16cda",
   "metadata": {},
   "outputs": [],
   "source": [
    "animals = ['tiger','lion', 'monkey', 'horse','cat']"
   ]
  },
  {
   "cell_type": "code",
   "execution_count": 19,
   "id": "6d377baa",
   "metadata": {},
   "outputs": [],
   "source": [
    "# without using list comprehension, we need for loop\n",
    "newlist = []\n",
    "for i in animals:\n",
    "    if 'o' in i:\n",
    "        newlist.append(i)"
   ]
  },
  {
   "cell_type": "code",
   "execution_count": 20,
   "id": "0873bf8d",
   "metadata": {},
   "outputs": [
    {
     "data": {
      "text/plain": [
       "['lion', 'monkey', 'horse']"
      ]
     },
     "execution_count": 20,
     "metadata": {},
     "output_type": "execute_result"
    }
   ],
   "source": [
    "newlist"
   ]
  },
  {
   "cell_type": "code",
   "execution_count": 15,
   "id": "a3a9abb8",
   "metadata": {},
   "outputs": [
    {
     "data": {
      "text/plain": [
       "[0, 2, 4]"
      ]
     },
     "execution_count": 15,
     "metadata": {},
     "output_type": "execute_result"
    }
   ],
   "source": [
    "x = [i for i in range(0,5) if i%2==0]\n",
    "x"
   ]
  },
  {
   "cell_type": "code",
   "execution_count": 22,
   "id": "33a04400",
   "metadata": {},
   "outputs": [
    {
     "data": {
      "text/plain": [
       "['lion', 'monkey', 'horse']"
      ]
     },
     "execution_count": 22,
     "metadata": {},
     "output_type": "execute_result"
    }
   ],
   "source": [
    "# with list comprehension\n",
    "newlist = [i for i in animals if 'o' in i]\n",
    "newlist"
   ]
  },
  {
   "cell_type": "code",
   "execution_count": 16,
   "id": "4ca6c8d4",
   "metadata": {},
   "outputs": [
    {
     "data": {
      "text/plain": [
       "[5, 6, 7, 8, 9, 10]"
      ]
     },
     "execution_count": 16,
     "metadata": {},
     "output_type": "execute_result"
    }
   ],
   "source": [
    "a = list(range(1,11))\n",
    "b = list(range(5,21))\n",
    "c = [i for i in a if i in b]\n",
    "c"
   ]
  },
  {
   "cell_type": "raw",
   "id": "cbca2817",
   "metadata": {},
   "source": [
    "The syntax of list comprehension becomes:\n",
    "\n",
    "newlist = [expression for item in iterable if condition == True]\n",
    "\n",
    "The return value is a new list that leaves the old list unchanged."
   ]
  },
  {
   "cell_type": "code",
   "execution_count": 3,
   "id": "0cb47be7",
   "metadata": {},
   "outputs": [],
   "source": [
    "strings = ['a', 'am', 'boy', 'girl', 'people']"
   ]
  },
  {
   "cell_type": "code",
   "execution_count": 24,
   "id": "9e4f40be",
   "metadata": {},
   "outputs": [],
   "source": [
    "strings2 = [x.upper() for x in strings if len(x)>2]"
   ]
  },
  {
   "cell_type": "code",
   "execution_count": 25,
   "id": "31708a92",
   "metadata": {},
   "outputs": [
    {
     "data": {
      "text/plain": [
       "['BOY', 'GIRL', 'PEOPLE']"
      ]
     },
     "execution_count": 25,
     "metadata": {},
     "output_type": "execute_result"
    }
   ],
   "source": [
    "strings2"
   ]
  },
  {
   "cell_type": "code",
   "execution_count": 26,
   "id": "a4499914",
   "metadata": {},
   "outputs": [
    {
     "data": {
      "text/plain": [
       "['A', 'AM', 'BOY', 'GIRL', 'PEOPLE']"
      ]
     },
     "execution_count": 26,
     "metadata": {},
     "output_type": "execute_result"
    }
   ],
   "source": [
    "# omitting if condition\n",
    "[x.upper() for x in strings]"
   ]
  },
  {
   "cell_type": "code",
   "execution_count": 5,
   "id": "4cb497cf",
   "metadata": {},
   "outputs": [
    {
     "data": {
      "text/plain": [
       "['A', 'ARE', 'BOY', 'GIRL', 'PEOPLE']"
      ]
     },
     "execution_count": 5,
     "metadata": {},
     "output_type": "execute_result"
    }
   ],
   "source": [
    "# You can also use expressions that are not filter like conditions. But they help you manipulate the outcome\n",
    "[x.upper() if x != 'am' else 'are' for x in strings]"
   ]
  },
  {
   "cell_type": "markdown",
   "id": "2bc5207c",
   "metadata": {},
   "source": [
    " <h2>6.  Dict and set Comprehension </h2>"
   ]
  },
  {
   "cell_type": "markdown",
   "id": "0db5c6f4",
   "metadata": {},
   "source": [
    "<font size = \"+0.5\">1. dict comprehension looks like this:\n",
    "<p>\n",
    "<font size = \"+0.5\"><b>dict_comp = {key-expr : value-expr for value in collection if condition}"
   ]
  },
  {
   "cell_type": "markdown",
   "id": "d66ee364",
   "metadata": {},
   "source": [
    "<font size = \"+0.5\">2. set comprehension looks like the list comprehension:\n",
    "<p>\n",
    "<font size = \"+0.5\"><b>set_comp = {expr for value in collection if condition}"
   ]
  },
  {
   "cell_type": "markdown",
   "id": "3cd1a149",
   "metadata": {},
   "source": [
    "<font size = \"+0.5\">Instead of square brackets, we use curly braces."
   ]
  },
  {
   "cell_type": "code",
   "execution_count": 33,
   "id": "977aa023",
   "metadata": {},
   "outputs": [],
   "source": [
    "keys = ['a','b','c','d','e']\n",
    "values = [1,2,3,4,5]"
   ]
  },
  {
   "cell_type": "code",
   "execution_count": 34,
   "id": "6197049f",
   "metadata": {},
   "outputs": [],
   "source": [
    "mapping = {x:y for (x,y) in zip(keys,values)}"
   ]
  },
  {
   "cell_type": "code",
   "execution_count": 35,
   "id": "f2bb4341",
   "metadata": {},
   "outputs": [
    {
     "data": {
      "text/plain": [
       "{'a': 1, 'b': 2, 'c': 3, 'd': 4, 'e': 5}"
      ]
     },
     "execution_count": 35,
     "metadata": {},
     "output_type": "execute_result"
    }
   ],
   "source": [
    "mapping"
   ]
  },
  {
   "cell_type": "code",
   "execution_count": 6,
   "id": "719e058a",
   "metadata": {},
   "outputs": [
    {
     "data": {
      "text/plain": [
       "['a', 'am', 'boy', 'girl', 'people']"
      ]
     },
     "execution_count": 6,
     "metadata": {},
     "output_type": "execute_result"
    }
   ],
   "source": [
    "strings"
   ]
  },
  {
   "cell_type": "code",
   "execution_count": 29,
   "id": "abc2a0b9",
   "metadata": {},
   "outputs": [],
   "source": [
    "uniqueLength = {len(x) for x in strings}"
   ]
  },
  {
   "cell_type": "code",
   "execution_count": 30,
   "id": "bf54518d",
   "metadata": {},
   "outputs": [
    {
     "data": {
      "text/plain": [
       "{1, 2, 3, 4, 6}"
      ]
     },
     "execution_count": 30,
     "metadata": {},
     "output_type": "execute_result"
    }
   ],
   "source": [
    "uniqueLength"
   ]
  },
  {
   "cell_type": "markdown",
   "id": "238d9fde",
   "metadata": {},
   "source": [
    "<h2> 7. Nested List comprehension</h2><br>\n",
    "<font size = \"+0.5\"> Nested List Comprehensions are nothing but a list comprehensionwithin another list comprehension which is quite similar to nested forloops."
   ]
  },
  {
   "cell_type": "raw",
   "id": "ac222381",
   "metadata": {},
   "source": [
    "for x in range(n):\n",
    "    for y in range(x+1):\n",
    "        pass\n",
    "    \n",
    "    to\n",
    "    \n",
    "[expr for x in range(n) for y in range(x+1)]"
   ]
  },
  {
   "cell_type": "code",
   "execution_count": 1,
   "id": "0d8ba2c7",
   "metadata": {},
   "outputs": [
    {
     "data": {
      "text/plain": [
       "[(1, 1), (1, 2), (1, 3), (2, 1), (2, 2), (2, 3), (3, 1), (3, 2), (3, 3)]"
      ]
     },
     "execution_count": 1,
     "metadata": {},
     "output_type": "execute_result"
    }
   ],
   "source": [
    "y = []\n",
    "for i in range(1,4):\n",
    "    for j in range(1,4):\n",
    "        y.append((i,j))\n",
    "y"
   ]
  },
  {
   "cell_type": "code",
   "execution_count": 8,
   "id": "a5c3c9ad",
   "metadata": {},
   "outputs": [
    {
     "data": {
      "text/plain": [
       "[(1, 1), (1, 2), (1, 3), (2, 1), (2, 2), (2, 3), (3, 1), (3, 2), (3, 3)]"
      ]
     },
     "execution_count": 8,
     "metadata": {},
     "output_type": "execute_result"
    }
   ],
   "source": [
    "[(x,y) for x in range(1,4) for y in range(1,4)]"
   ]
  },
  {
   "cell_type": "code",
   "execution_count": 10,
   "id": "8a4b532f",
   "metadata": {},
   "outputs": [],
   "source": [
    "# Suppose we have a list of lists that contains English and Spanish names:\n",
    "name_data = [['John','Emily','Michael','Mary','Steven'], \n",
    "             ['Maria','Juan','Javier','Natalia','Peler']]"
   ]
  },
  {
   "cell_type": "code",
   "execution_count": 43,
   "id": "e8ac053a",
   "metadata": {},
   "outputs": [
    {
     "data": {
      "text/plain": [
       "['JOHN',\n",
       " 'EMILY',\n",
       " 'MICHAEL',\n",
       " 'MARY',\n",
       " 'STEVEN',\n",
       " 'MARIA',\n",
       " 'JUAN',\n",
       " 'JAVIER',\n",
       " 'NATALIA',\n",
       " 'PELER']"
      ]
     },
     "execution_count": 43,
     "metadata": {},
     "output_type": "execute_result"
    }
   ],
   "source": [
    "# we want a single list containing all names with two or more e’s in them. \n",
    "namelist = []\n",
    "for i in name_data:\n",
    "    for names in i:\n",
    "        namelist.append(names.upper())\n",
    "namelist"
   ]
  },
  {
   "cell_type": "code",
   "execution_count": 11,
   "id": "d22189a5",
   "metadata": {},
   "outputs": [
    {
     "data": {
      "text/plain": [
       "[['John', 'Emily', 'Michael', 'Mary', 'Steven'],\n",
       " ['Maria', 'Juan', 'Javier', 'Natalia', 'Peler']]"
      ]
     },
     "execution_count": 11,
     "metadata": {},
     "output_type": "execute_result"
    }
   ],
   "source": [
    "name_data"
   ]
  },
  {
   "cell_type": "code",
   "execution_count": 5,
   "id": "bd72d1ba",
   "metadata": {},
   "outputs": [],
   "source": [
    "# we want a single list containing all names. \n",
    "names2e = [name.upper() for names in name_data for name in names]"
   ]
  },
  {
   "cell_type": "code",
   "execution_count": 45,
   "id": "e7c9ce46",
   "metadata": {},
   "outputs": [
    {
     "data": {
      "text/plain": [
       "['JOHN',\n",
       " 'EMILY',\n",
       " 'MICHAEL',\n",
       " 'MARY',\n",
       " 'STEVEN',\n",
       " 'MARIA',\n",
       " 'JUAN',\n",
       " 'JAVIER',\n",
       " 'NATALIA',\n",
       " 'PELER']"
      ]
     },
     "execution_count": 45,
     "metadata": {},
     "output_type": "execute_result"
    }
   ],
   "source": [
    "names2e"
   ]
  },
  {
   "cell_type": "code",
   "execution_count": 10,
   "id": "7d0f14d5",
   "metadata": {},
   "outputs": [
    {
     "data": {
      "text/plain": [
       "[35]"
      ]
     },
     "execution_count": 10,
     "metadata": {},
     "output_type": "execute_result"
    }
   ],
   "source": [
    "x = list((list(range(1,11)), list(range(11,41))))\n",
    "y = [a for b in x for a in b if a%7==0 and a%5==0]\n",
    "y"
   ]
  },
  {
   "attachments": {},
   "cell_type": "markdown",
   "id": "425f3932",
   "metadata": {},
   "source": [
    "<h2> Import </h2>\n",
    "<font size = \"+1\"> A <span style=\"background-color: #D3D3D3\">module</span> in Python is a file with the .py extension that contains Python code. "
   ]
  },
  {
   "cell_type": "code",
   "execution_count": 3,
   "id": "96df9d2d",
   "metadata": {},
   "outputs": [
    {
     "data": {
      "text/plain": [
       "3.0"
      ]
     },
     "execution_count": 3,
     "metadata": {},
     "output_type": "execute_result"
    }
   ],
   "source": [
    "# we create a new python module, say test_script.py in the same directory and importing it.\n",
    "import test_script as ts\n",
    "ts.f(4,5,3)"
   ]
  },
  {
   "cell_type": "code",
   "execution_count": 4,
   "id": "897e2a67",
   "metadata": {},
   "outputs": [
    {
     "data": {
      "text/plain": [
       "3.0"
      ]
     },
     "execution_count": 4,
     "metadata": {},
     "output_type": "execute_result"
    }
   ],
   "source": [
    "# or we can directly import required function  if the module contains many functions.\n",
    "from test_script import f\n",
    "f(4,5,3)"
   ]
  },
  {
   "cell_type": "code",
   "execution_count": 6,
   "id": "58126d53",
   "metadata": {},
   "outputs": [
    {
     "name": "stdout",
     "output_type": "stream",
     "text": [
      "3\n",
      "13\n",
      "30\n",
      "54\n",
      "85\n",
      "123\n",
      "168\n",
      "220\n",
      "279\n",
      "345\n",
      "418\n",
      "498\n",
      "585\n",
      "679\n"
     ]
    }
   ],
   "source": [
    "sum = 0\n",
    "for i in range(3,100,7):\n",
    "    \n",
    "    sum = sum + i\n",
    "    print(sum)"
   ]
  },
  {
   "cell_type": "code",
   "execution_count": 8,
   "id": "3e1a2b15",
   "metadata": {},
   "outputs": [
    {
     "data": {
      "text/plain": [
       "[3, 10, 17, 24, 31, 38, 45, 52, 59, 66, 73, 80, 87, 94]"
      ]
     },
     "execution_count": 8,
     "metadata": {},
     "output_type": "execute_result"
    }
   ],
   "source": [
    "list(range(3,100,7))"
   ]
  },
  {
   "cell_type": "code",
   "execution_count": null,
   "id": "af118e45",
   "metadata": {},
   "outputs": [],
   "source": [
    "c = 0\n",
    "for j in ['i','am','iron','man']:\n",
    "    c = c + len(j)\n",
    "printb\n"
   ]
  },
  {
   "cell_type": "code",
   "execution_count": 10,
   "id": "3553819e",
   "metadata": {},
   "outputs": [
    {
     "data": {
      "text/plain": [
       "3"
      ]
     },
     "execution_count": 10,
     "metadata": {},
     "output_type": "execute_result"
    }
   ],
   "source": [
    "len([1,2,3])"
   ]
  },
  {
   "cell_type": "markdown",
   "id": "3666504b",
   "metadata": {},
   "source": [
    "<h2> 8. Functions </h2><br>\n",
    "<font size = \"+0.5\"><li> Functions is a block of statements that return the specific task. <br></li>\n",
    "<li>If there is a need to repeat same or very similar code more than one, it is recommended to write a reusable function.</li>"
   ]
  },
  {
   "attachments": {
    "image.png": {
     "image/png": "[encoded data removed]"
    }
   },
   "cell_type": "markdown",
   "id": "2f7bed92",
   "metadata": {},
   "source": [
    "![image.png](attachment:image.png)"
   ]
  },
  {
   "cell_type": "markdown",
   "id": "fe2f9a05",
   "metadata": {},
   "source": [
    "<font size = \"+0.5\"> You can pass an information or data into functions using parameters/arguments.<br> You can add as many arguments as per your requirement. <br>You have to separate each argument with a comma."
   ]
  },
  {
   "cell_type": "code",
   "execution_count": 50,
   "id": "e2d476e4",
   "metadata": {},
   "outputs": [],
   "source": [
    "def check_odd_even(n):\n",
    "    if n%2 == 0:\n",
    "        return \"Even\"\n",
    "    else:\n",
    "        return \"Odd\""
   ]
  },
  {
   "cell_type": "code",
   "execution_count": 51,
   "id": "d9a448f2",
   "metadata": {},
   "outputs": [
    {
     "data": {
      "text/plain": [
       "'Even'"
      ]
     },
     "execution_count": 51,
     "metadata": {},
     "output_type": "execute_result"
    }
   ],
   "source": [
    "check_odd_even(20)"
   ]
  },
  {
   "cell_type": "code",
   "execution_count": 54,
   "id": "8d3c1a5e",
   "metadata": {},
   "outputs": [],
   "source": [
    "# paramete-less function\n",
    "def fun():\n",
    "    print(\"This is python.\")"
   ]
  },
  {
   "cell_type": "code",
   "execution_count": 55,
   "id": "90c65baf",
   "metadata": {},
   "outputs": [
    {
     "name": "stdout",
     "output_type": "stream",
     "text": [
      "This is python.\n"
     ]
    }
   ],
   "source": [
    "fun()"
   ]
  },
  {
   "cell_type": "code",
   "execution_count": 1,
   "id": "06fbcf0d",
   "metadata": {},
   "outputs": [],
   "source": [
    "def convert_into(temp, typ):\n",
    "    if typ == 'C':\n",
    "        new_temp = (temp - 32)/1.8\n",
    "    elif typ == 'F':\n",
    "        new_temp = (temp * 1.8) + 32\n",
    "    else:\n",
    "        return \"Unknown type\"\n",
    "    return \"{0} in {1} is {2}\".format(temp, typ, new_temp)"
   ]
  },
  {
   "cell_type": "code",
   "execution_count": 2,
   "id": "02d9609f",
   "metadata": {},
   "outputs": [
    {
     "data": {
      "text/plain": [
       "'100 in F is 212.0'"
      ]
     },
     "execution_count": 2,
     "metadata": {},
     "output_type": "execute_result"
    }
   ],
   "source": [
    "convert_into(100, \"F\")"
   ]
  },
  {
   "cell_type": "code",
   "execution_count": 3,
   "id": "2102b98a",
   "metadata": {},
   "outputs": [
    {
     "ename": "NameError",
     "evalue": "name 'typ' is not defined",
     "output_type": "error",
     "traceback": [
      "\u001b[1;31m---------------------------------------------------------------------------\u001b[0m",
      "\u001b[1;31mNameError\u001b[0m                                 Traceback (most recent call last)",
      "Cell \u001b[1;32mIn[3], line 1\u001b[0m\n\u001b[1;32m----> 1\u001b[0m typ\n",
      "\u001b[1;31mNameError\u001b[0m: name 'typ' is not defined"
     ]
    }
   ],
   "source": [
    "typ"
   ]
  },
  {
   "cell_type": "markdown",
   "id": "e4ed8eb8",
   "metadata": {},
   "source": [
    "<h3> Positional & Keyword Argument </h3><br>\n",
    "<font size = \"+0.5\">• Positional arguments are the arguments that are passed to a function or method in a specific order. <br>• We use keyword arguments to specify the default value or optional argument. A keyword argument is where you provide a name to the variable as you pass it into the function."
   ]
  },
  {
   "cell_type": "code",
   "execution_count": 64,
   "id": "217d1194",
   "metadata": {},
   "outputs": [],
   "source": [
    "def sub(x, y = 10): # here x is a positional argument and y is a keyword argument\n",
    "    return x - y"
   ]
  },
  {
   "cell_type": "code",
   "execution_count": 66,
   "id": "dcf8fad2",
   "metadata": {},
   "outputs": [
    {
     "data": {
      "text/plain": [
       "-1"
      ]
     },
     "execution_count": 66,
     "metadata": {},
     "output_type": "execute_result"
    }
   ],
   "source": [
    "sub(5, 6)"
   ]
  },
  {
   "cell_type": "code",
   "execution_count": 67,
   "id": "c60d6174",
   "metadata": {},
   "outputs": [
    {
     "data": {
      "text/plain": [
       "-5"
      ]
     },
     "execution_count": 67,
     "metadata": {},
     "output_type": "execute_result"
    }
   ],
   "source": [
    "sub(5,)"
   ]
  },
  {
   "cell_type": "code",
   "execution_count": 69,
   "id": "fcd25879",
   "metadata": {},
   "outputs": [
    {
     "ename": "SyntaxError",
     "evalue": "invalid syntax (2180259817.py, line 1)",
     "output_type": "error",
     "traceback": [
      "\u001b[1;36m  Cell \u001b[1;32mIn[69], line 1\u001b[1;36m\u001b[0m\n\u001b[1;33m    sub(,5)\u001b[0m\n\u001b[1;37m        ^\u001b[0m\n\u001b[1;31mSyntaxError\u001b[0m\u001b[1;31m:\u001b[0m invalid syntax\n"
     ]
    }
   ],
   "source": [
    "sub(,5)"
   ]
  },
  {
   "cell_type": "markdown",
   "id": "5f2e108b",
   "metadata": {},
   "source": [
    "<font size = \"+0.5\">• The keyword argument must follow the positional arguments (if any). <br>• While calling the function, the positional argument (if not specified with keywords) should follow the same order as followed in function definition.<br>• If you use keywords for passing the positional arguments, the positional arguments can also follow any order"
   ]
  },
  {
   "cell_type": "code",
   "execution_count": 72,
   "id": "9b742463",
   "metadata": {},
   "outputs": [
    {
     "data": {
      "text/plain": [
       "-20"
      ]
     },
     "execution_count": 72,
     "metadata": {},
     "output_type": "execute_result"
    }
   ],
   "source": [
    "sub(2,22)"
   ]
  },
  {
   "cell_type": "code",
   "execution_count": 71,
   "id": "e42ad3c1",
   "metadata": {},
   "outputs": [
    {
     "data": {
      "text/plain": [
       "20"
      ]
     },
     "execution_count": 71,
     "metadata": {},
     "output_type": "execute_result"
    }
   ],
   "source": [
    "sub(y = 2, x = 22)"
   ]
  },
  {
   "cell_type": "markdown",
   "id": "521a40ea",
   "metadata": {},
   "source": [
    "<h3> Arbitrary Argument (*args)</h3><br>\n",
    "<font size = \"+0.5\">If you are not sure of number of arguments that would be passed into the function, you can add a * before the parameter name in the function definition. It is used to pass a non-key worded, variable-length argument list. \n",
    "<li> *args (Non-Keyword Arguments) </li>"
   ]
  },
  {
   "cell_type": "code",
   "execution_count": 1,
   "id": "4daf6b10",
   "metadata": {},
   "outputs": [],
   "source": [
    "def print_all(*y):\n",
    "    print(y)"
   ]
  },
  {
   "cell_type": "code",
   "execution_count": 2,
   "id": "f8bcdd68",
   "metadata": {},
   "outputs": [
    {
     "name": "stdout",
     "output_type": "stream",
     "text": [
      "(1, 2)\n"
     ]
    }
   ],
   "source": [
    "print_all(1,2)"
   ]
  },
  {
   "cell_type": "code",
   "execution_count": 3,
   "id": "71f6e2a3",
   "metadata": {},
   "outputs": [
    {
     "name": "stdout",
     "output_type": "stream",
     "text": [
      "(1, 2, '4324', True)\n"
     ]
    }
   ],
   "source": [
    "print_all(1,2,\"4324\",True)"
   ]
  },
  {
   "cell_type": "code",
   "execution_count": 92,
   "id": "8e457393",
   "metadata": {},
   "outputs": [],
   "source": [
    "def sabka_sum(*x):\n",
    "    total = 0\n",
    "    for i in x:\n",
    "        total += i\n",
    "    return total"
   ]
  },
  {
   "cell_type": "code",
   "execution_count": 93,
   "id": "44874dda",
   "metadata": {},
   "outputs": [
    {
     "data": {
      "text/plain": [
       "5"
      ]
     },
     "execution_count": 93,
     "metadata": {},
     "output_type": "execute_result"
    }
   ],
   "source": [
    "sabka_sum(4,1)"
   ]
  },
  {
   "cell_type": "code",
   "execution_count": 94,
   "id": "22d6bd8c",
   "metadata": {
    "scrolled": true
   },
   "outputs": [
    {
     "data": {
      "text/plain": [
       "105"
      ]
     },
     "execution_count": 94,
     "metadata": {},
     "output_type": "execute_result"
    }
   ],
   "source": [
    "sabka_sum(5,43,2,55)"
   ]
  },
  {
   "cell_type": "markdown",
   "id": "d950c6f6",
   "metadata": {},
   "source": [
    "<h3> Arbitrary Keyword Arguments **kwargs</h3><br>\n",
    "<font size = \"+0.5\">If you do not know how many keyword arguments that you can pass into function, you can add ** before parameter name in function definition. <br>\n",
    "<li> **kwargs (Keyword Arguments) </li>\n"
   ]
  },
  {
   "cell_type": "code",
   "execution_count": 101,
   "id": "24c36ebd",
   "metadata": {},
   "outputs": [],
   "source": [
    "def carDekho(**k):\n",
    "    print(k)"
   ]
  },
  {
   "cell_type": "code",
   "execution_count": 102,
   "id": "55f2fb28",
   "metadata": {},
   "outputs": [
    {
     "name": "stdout",
     "output_type": "stream",
     "text": [
      "{'car': 'Ford Mustang', 'Engine': '4 stroke', 'parts': 'General Motors'}\n"
     ]
    }
   ],
   "source": [
    "carDekho(car = \"Ford Mustang\", Engine = \"4 stroke\", \n",
    "         parts = \"General Motors\")"
   ]
  },
  {
   "cell_type": "code",
   "execution_count": 110,
   "id": "5ef90610",
   "metadata": {},
   "outputs": [],
   "source": [
    "def allMarks(**mark):\n",
    "    for i, j in mark.items():\n",
    "        print(i ,\"=\", j)"
   ]
  },
  {
   "cell_type": "code",
   "execution_count": 111,
   "id": "d46bdc82",
   "metadata": {
    "scrolled": true
   },
   "outputs": [
    {
     "name": "stdout",
     "output_type": "stream",
     "text": [
      "car = Ford Mustang\n",
      "name = z\n",
      "name2 = y\n"
     ]
    }
   ],
   "source": [
    "allMarks(car = \"Ford Mustang\",name = \"z\", name2 = 'y')"
   ]
  },
  {
   "cell_type": "markdown",
   "id": "9e4a247b",
   "metadata": {},
   "source": [
    "<h2>9. Namespace</h2> <br>\n",
    "<font size = \"+0.5\"> • We have studied that for the assignment statements such as x = 2, create an integer object 2 and associate a symbolic name x with it.<br><br>\n",
    "• While working on any program, you will create several such names and point each one to a specific object. <br><br>\n",
    "• <u>Now, we can define the namespace as a collection of names. </u><br><br>\n",
    "• You can think of namespace as a dictionary in which the keys are the object names and the values are the objects themselves. <br><br>\n",
    "• In a Python program, generally there are three types of namespaces: <br><br>\n",
    "<b>1. Built-in namespace:</b> contains the names of all of Python’s built-in objects. These are available as long as the Python is running. <u>It is created when the Python interpreter starts up and it’s never deleted.</u> Example: print(), len() <br><br>\n",
    "<b>2. Global namespace:</b> it belongs to the python script or the current module. The global namespace for a module is created when the module definition is read. Generally, module namespaces also last until the interpreter quits. <br><br>\n",
    "<b>3. Local namespace:</b> These are created whenever a function or loop is executed. The local namespace is local to the function and remains in existence until the function terminates.<br><br>\n",
    "• Each namespace has different lifetime. As Python executes a program, a namespace is created. It is deleted when it is no longer needed.\n"
   ]
  },
  {
   "attachments": {
    "image-2.png": {
     "image/png": "[encoded data removed]"
    }
   },
   "cell_type": "markdown",
   "id": "87232c9b",
   "metadata": {},
   "source": [
    "![image-2.png](attachment:image-2.png)"
   ]
  },
  {
   "attachments": {
    "image.png": {
     "image/png": "[encoded data removed]"
    }
   },
   "cell_type": "markdown",
   "id": "30327b91",
   "metadata": {},
   "source": [
    "![image.png](attachment:image.png)"
   ]
  },
  {
   "cell_type": "markdown",
   "id": "ccb165eb",
   "metadata": {},
   "source": [
    "<h2> 10. Scope </h2><br><font size = \"+0.5\">\n",
    "<font size = \"+0.5\">• Due to the existence of multiple, distinct namespaces, several different instances of a particular name can exist simultaneously when a Python program runs.<br><br>\n",
    "• These namespaces are maintained separately and they do not interfere with each other.<br><br>\n",
    "• Suppose you have several name x in your codes whereas x exists in several namespace. How Python decides, which one it means.<br><br>\n",
    "• This could be understood using the concepts of scope.<br><br>\n",
    "• Scope of a name is the region of a program in which that name has meaning.<br><br>\n",
    "    Basically two type of scopes:<br>\n",
    "    <ul> => Local scope </ul>\n",
    "    <ul> => Global scope </ul>"
   ]
  },
  {
   "cell_type": "markdown",
   "id": "81be06a4",
   "metadata": {},
   "source": [
    "<h3> Local Scope </h3><br>\n",
    "<font size = \"+0.5\">A variable created inside a function belongs to the local scope of that function, and can only be used inside that function."
   ]
  },
  {
   "cell_type": "code",
   "execution_count": 121,
   "id": "7f468b6a",
   "metadata": {},
   "outputs": [],
   "source": [
    "def myfunc():\n",
    "    a_var = 50\n",
    "    print (a_var)"
   ]
  },
  {
   "cell_type": "code",
   "execution_count": 122,
   "id": "ed1fb6df",
   "metadata": {},
   "outputs": [
    {
     "name": "stdout",
     "output_type": "stream",
     "text": [
      "50\n"
     ]
    }
   ],
   "source": [
    "myfunc()"
   ]
  },
  {
   "cell_type": "code",
   "execution_count": 123,
   "id": "8c66efbd",
   "metadata": {},
   "outputs": [
    {
     "ename": "NameError",
     "evalue": "name 'a_var' is not defined",
     "output_type": "error",
     "traceback": [
      "\u001b[1;31m---------------------------------------------------------------------------\u001b[0m",
      "\u001b[1;31mNameError\u001b[0m                                 Traceback (most recent call last)",
      "Cell \u001b[1;32mIn[123], line 1\u001b[0m\n\u001b[1;32m----> 1\u001b[0m \u001b[38;5;28mprint\u001b[39m(\u001b[43ma_var\u001b[49m)\n",
      "\u001b[1;31mNameError\u001b[0m: name 'a_var' is not defined"
     ]
    }
   ],
   "source": [
    "print(a_var)"
   ]
  },
  {
   "cell_type": "markdown",
   "id": "afc4f7b9",
   "metadata": {},
   "source": [
    "<font size = \"+0.5\">When the function myfunc() is called, object 50 is created and assigned to name a_Var. Then a_var is destroyed when the function exits."
   ]
  },
  {
   "cell_type": "markdown",
   "id": "bcfce123",
   "metadata": {},
   "source": [
    "<h3> Global Scope </h3><br>\n",
    "<font size = \"+0.5\">A variable created in the main body of the Python code is a global variable and belongs to the global scope and can be used by anyone. Global variables are available from within any scope, global and local. "
   ]
  },
  {
   "cell_type": "code",
   "execution_count": 127,
   "id": "1ca9111e",
   "metadata": {},
   "outputs": [],
   "source": [
    "b_var = 100\n",
    "def myfunc2():\n",
    "    print(b_var)"
   ]
  },
  {
   "cell_type": "code",
   "execution_count": 128,
   "id": "66274ace",
   "metadata": {},
   "outputs": [
    {
     "name": "stdout",
     "output_type": "stream",
     "text": [
      "100\n"
     ]
    }
   ],
   "source": [
    "myfunc2()"
   ]
  },
  {
   "cell_type": "code",
   "execution_count": 129,
   "id": "9d076ee5",
   "metadata": {},
   "outputs": [
    {
     "data": {
      "text/plain": [
       "100"
      ]
     },
     "execution_count": 129,
     "metadata": {},
     "output_type": "execute_result"
    }
   ],
   "source": [
    "b_var"
   ]
  },
  {
   "cell_type": "markdown",
   "id": "ed326271",
   "metadata": {},
   "source": [
    "<font size = \"+0.5\">If you operate with the same variable name inside and outside of a function, Python will treat them as two separate variables, one available in the global scope (outside the function) and one available in the local scope (inside the function)"
   ]
  },
  {
   "cell_type": "code",
   "execution_count": 134,
   "id": "b00292de",
   "metadata": {},
   "outputs": [],
   "source": [
    "c_var = 50\n",
    "def myfunc3():\n",
    "    c_var = 120\n",
    "    print(c_var)\n",
    "    print(id(c_var))"
   ]
  },
  {
   "cell_type": "code",
   "execution_count": 135,
   "id": "083188dc",
   "metadata": {},
   "outputs": [
    {
     "name": "stdout",
     "output_type": "stream",
     "text": [
      "120\n",
      "2371535245264\n"
     ]
    }
   ],
   "source": [
    "myfunc3()"
   ]
  },
  {
   "cell_type": "code",
   "execution_count": 133,
   "id": "aa68dd7a",
   "metadata": {},
   "outputs": [
    {
     "data": {
      "text/plain": [
       "50"
      ]
     },
     "execution_count": 133,
     "metadata": {},
     "output_type": "execute_result"
    }
   ],
   "source": [
    "c_var"
   ]
  },
  {
   "cell_type": "code",
   "execution_count": 136,
   "id": "dfec471d",
   "metadata": {},
   "outputs": [
    {
     "data": {
      "text/plain": [
       "2371535243024"
      ]
     },
     "execution_count": 136,
     "metadata": {},
     "output_type": "execute_result"
    }
   ],
   "source": [
    "id(c_var)"
   ]
  },
  {
   "cell_type": "markdown",
   "id": "01157c3e",
   "metadata": {},
   "source": [
    "<font size = \"+0.5\"> If you use the global keyword, the variable belongs to the global scope."
   ]
  },
  {
   "cell_type": "code",
   "execution_count": 137,
   "id": "335812a4",
   "metadata": {},
   "outputs": [],
   "source": [
    "d_var = 50\n",
    "def myfunc3():\n",
    "    global d_var\n",
    "    d_var = 120\n",
    "    print(d_var)"
   ]
  },
  {
   "cell_type": "code",
   "execution_count": 138,
   "id": "992e10ab",
   "metadata": {},
   "outputs": [
    {
     "name": "stdout",
     "output_type": "stream",
     "text": [
      "120\n"
     ]
    }
   ],
   "source": [
    "myfunc3()"
   ]
  },
  {
   "cell_type": "code",
   "execution_count": 139,
   "id": "96d7fefe",
   "metadata": {},
   "outputs": [
    {
     "data": {
      "text/plain": [
       "120"
      ]
     },
     "execution_count": 139,
     "metadata": {},
     "output_type": "execute_result"
    }
   ],
   "source": [
    "d_var"
   ]
  },
  {
   "cell_type": "markdown",
   "id": "24e3c439",
   "metadata": {},
   "source": [
    "<font size = \"+0.5\">• Python variable scope defines the hierarchy in which we search for a variable. <br><br>\n",
    "• Python variables are searched in the following order of namespaces. <br><br>\n",
    "\n",
    "<b> Local -> Global -> Built-in </b>"
   ]
  },
  {
   "attachments": {
    "image.png": {
     "image/png": "[encoded data removed]"
    }
   },
   "cell_type": "markdown",
   "id": "399fbc58",
   "metadata": {},
   "source": [
    "![image.png](attachment:image.png)"
   ]
  },
  {
   "cell_type": "markdown",
   "id": "5f98afa4",
   "metadata": {},
   "source": [
    "<font size = \"+0.5\">Enclosed Namespace is also a type of Local name space and is created a loop is defined inside a loop.<br> If a name is not found in the namespace hierarchy, NameError is raised."
   ]
  },
  {
   "cell_type": "code",
   "execution_count": 113,
   "id": "82ba4427",
   "metadata": {},
   "outputs": [
    {
     "ename": "NameError",
     "evalue": "name 'xyz' is not defined",
     "output_type": "error",
     "traceback": [
      "\u001b[1;31m---------------------------------------------------------------------------\u001b[0m",
      "\u001b[1;31mNameError\u001b[0m                                 Traceback (most recent call last)",
      "Cell \u001b[1;32mIn[113], line 1\u001b[0m\n\u001b[1;32m----> 1\u001b[0m \u001b[38;5;28mprint\u001b[39m(\u001b[43mxyz\u001b[49m)\n",
      "\u001b[1;31mNameError\u001b[0m: name 'xyz' is not defined"
     ]
    }
   ],
   "source": [
    "print(xyz)"
   ]
  },
  {
   "cell_type": "markdown",
   "id": "88179e15",
   "metadata": {},
   "source": [
    "<h2>11. Returning Multiple Variable </h2><br>\n",
    "<font size = \"+0.5\"> One of the functionalities of Python is its ability to return multiple values from a function."
   ]
  },
  {
   "cell_type": "code",
   "execution_count": 140,
   "id": "2d1b9428",
   "metadata": {},
   "outputs": [],
   "source": [
    "def myfunc5():\n",
    "    x = 1\n",
    "    y = 2\n",
    "    z = 3\n",
    "    return x, y, z  # returning a tuple of multiple variables"
   ]
  },
  {
   "cell_type": "code",
   "execution_count": 141,
   "id": "05d0bba6",
   "metadata": {},
   "outputs": [
    {
     "data": {
      "text/plain": [
       "(1, 2, 3)"
      ]
     },
     "execution_count": 141,
     "metadata": {},
     "output_type": "execute_result"
    }
   ],
   "source": [
    "myfunc5()"
   ]
  },
  {
   "cell_type": "code",
   "execution_count": 142,
   "id": "2445b1af",
   "metadata": {},
   "outputs": [],
   "source": [
    "a, b, c = myfunc5()"
   ]
  },
  {
   "cell_type": "code",
   "execution_count": 144,
   "id": "15d60420",
   "metadata": {},
   "outputs": [
    {
     "name": "stdout",
     "output_type": "stream",
     "text": [
      "1 2 3\n"
     ]
    }
   ],
   "source": [
    "print(a, b, c)"
   ]
  },
  {
   "cell_type": "markdown",
   "id": "1bdb0834",
   "metadata": {},
   "source": [
    "<h4> Returning dict </h4>"
   ]
  },
  {
   "cell_type": "code",
   "execution_count": 148,
   "id": "d0d23202",
   "metadata": {},
   "outputs": [],
   "source": [
    "def myfunc5():\n",
    "    x = 1\n",
    "    y = 2\n",
    "    z = 3\n",
    "    return {'x':x, 'y':y, 'z':z}"
   ]
  },
  {
   "cell_type": "code",
   "execution_count": 149,
   "id": "357e1e8f",
   "metadata": {},
   "outputs": [
    {
     "data": {
      "text/plain": [
       "{'x': 1, 'y': 2, 'z': 3}"
      ]
     },
     "execution_count": 149,
     "metadata": {},
     "output_type": "execute_result"
    }
   ],
   "source": [
    "myfunc5()"
   ]
  },
  {
   "cell_type": "markdown",
   "id": "79a5e146",
   "metadata": {},
   "source": [
    "<h2>12. Functions are Objects </h2><br>\n",
    "<font size = \"+0.5\">In Python functions are first class objects. It means that the function in Python has following properties<br><br>\n",
    "<li>Functions have types.</li><br>\n",
    "<li>Functions can be sent as arguments to another function.</li><br>\n",
    "<li>Functions can be used in expression.</li><br>\n",
    "<li>Function can be a part of various data structures such as list or dictionaries.</li><br>\n",
    "    This gives you the capability to do some things in Python that are\n",
    "difficult-to-impossible to carry out in many other languages."
   ]
  },
  {
   "cell_type": "code",
   "execution_count": 151,
   "id": "4a6e025d",
   "metadata": {},
   "outputs": [
    {
     "name": "stdout",
     "output_type": "stream",
     "text": [
      "42\n"
     ]
    }
   ],
   "source": [
    "# let’s define a simple function called answer() that doesn’t have any arguments; \n",
    "def answer():\n",
    "    print(42)\n",
    "answer()"
   ]
  },
  {
   "cell_type": "code",
   "execution_count": 152,
   "id": "44175229",
   "metadata": {},
   "outputs": [],
   "source": [
    "# Let’s define another function named do_something(). It has only one argument called func, a function to run.\n",
    "## It just calls the function:\n",
    "def do_something(func):\n",
    "    func()    "
   ]
  },
  {
   "cell_type": "code",
   "execution_count": 155,
   "id": "a5b405c5",
   "metadata": {},
   "outputs": [
    {
     "name": "stdout",
     "output_type": "stream",
     "text": [
      "42\n"
     ]
    }
   ],
   "source": [
    "do_something(answer)"
   ]
  },
  {
   "cell_type": "markdown",
   "id": "42f02b6b",
   "metadata": {},
   "source": [
    "<font size = \"+0.5\">\n",
    "<li> Notice that we passed answer, not answer().</li>\n",
    "<li> In Python, the parentheses mean call the function.</li>\n",
    "<li> Without parentheses, Python treats the function like any other object.</li>\n",
    "<li> The reason is that everything in Python is an object.</li>"
   ]
  },
  {
   "cell_type": "code",
   "execution_count": 158,
   "id": "ad9f00f0",
   "metadata": {},
   "outputs": [
    {
     "name": "stdout",
     "output_type": "stream",
     "text": [
      "42\n"
     ]
    },
    {
     "ename": "TypeError",
     "evalue": "'NoneType' object is not callable",
     "output_type": "error",
     "traceback": [
      "\u001b[1;31m---------------------------------------------------------------------------\u001b[0m",
      "\u001b[1;31mTypeError\u001b[0m                                 Traceback (most recent call last)",
      "Cell \u001b[1;32mIn[158], line 1\u001b[0m\n\u001b[1;32m----> 1\u001b[0m \u001b[43mdo_something\u001b[49m\u001b[43m(\u001b[49m\u001b[43manswer\u001b[49m\u001b[43m(\u001b[49m\u001b[43m)\u001b[49m\u001b[43m)\u001b[49m\n",
      "Cell \u001b[1;32mIn[152], line 4\u001b[0m, in \u001b[0;36mdo_something\u001b[1;34m(func)\u001b[0m\n\u001b[0;32m      3\u001b[0m \u001b[38;5;28;01mdef\u001b[39;00m \u001b[38;5;21mdo_something\u001b[39m(func):\n\u001b[1;32m----> 4\u001b[0m     \u001b[43mfunc\u001b[49m\u001b[43m(\u001b[49m\u001b[43m)\u001b[49m\n",
      "\u001b[1;31mTypeError\u001b[0m: 'NoneType' object is not callable"
     ]
    }
   ],
   "source": [
    "do_something(answer())"
   ]
  },
  {
   "cell_type": "code",
   "execution_count": 159,
   "id": "af4a67f0",
   "metadata": {},
   "outputs": [],
   "source": [
    "def add_argument(x,y):\n",
    "    print(x+y)"
   ]
  },
  {
   "cell_type": "code",
   "execution_count": 160,
   "id": "1c5c1ca0",
   "metadata": {},
   "outputs": [
    {
     "name": "stdout",
     "output_type": "stream",
     "text": [
      "4\n"
     ]
    }
   ],
   "source": [
    "add_argument(2,2)"
   ]
  },
  {
   "cell_type": "code",
   "execution_count": 161,
   "id": "24fee745",
   "metadata": {},
   "outputs": [],
   "source": [
    "def do_something_arg(func, a, b):\n",
    "    func(a,b)"
   ]
  },
  {
   "cell_type": "code",
   "execution_count": 162,
   "id": "16238cf1",
   "metadata": {},
   "outputs": [
    {
     "name": "stdout",
     "output_type": "stream",
     "text": [
      "7\n"
     ]
    }
   ],
   "source": [
    "do_something_arg(add_argument, 3,4)"
   ]
  },
  {
   "cell_type": "markdown",
   "id": "22fea0c2",
   "metadata": {},
   "source": [
    "<h3> Anonymous (lambda) function </h3><br>\n",
    "<font size = \"+0.5\">The keyword lambda is used in Python to define anonymous functions, that is; functions without a name and described by a single expression.<br>\n",
    "Lambda functions are used when we need a nameless function for a short period of time.<br><br>\n",
    "    <em><u> Syntax </u></em><br>\n",
    "<b> lambda arguments : expression </b>\n",
    "\n"
   ]
  },
  {
   "cell_type": "code",
   "execution_count": 164,
   "id": "32971acb",
   "metadata": {},
   "outputs": [],
   "source": [
    "x = lambda a : a + 10"
   ]
  },
  {
   "cell_type": "code",
   "execution_count": 165,
   "id": "a4aa4d0c",
   "metadata": {
    "scrolled": true
   },
   "outputs": [
    {
     "name": "stdout",
     "output_type": "stream",
     "text": [
      "15\n"
     ]
    }
   ],
   "source": [
    "print(x(5))"
   ]
  },
  {
   "cell_type": "code",
   "execution_count": 170,
   "id": "dec36cd0",
   "metadata": {},
   "outputs": [],
   "source": [
    "# multiple arguments\n",
    "y = lambda a,b: a-b"
   ]
  },
  {
   "cell_type": "code",
   "execution_count": 172,
   "id": "cea0003c",
   "metadata": {},
   "outputs": [
    {
     "name": "stdout",
     "output_type": "stream",
     "text": [
      "1\n"
     ]
    }
   ],
   "source": [
    "print(y(3,2))"
   ]
  },
  {
   "cell_type": "markdown",
   "id": "e7dd7c6f",
   "metadata": {},
   "source": [
    "<h3>*Use of lambda function with filter()</h3><br>\n",
    "<font size = \"+0.5\"><li> The filter() function in Python takes in a function and a list as arguments.<br>\n",
    "<li> The function is called with all the items in the list and a new list is returned which contains items for which the function evaluates to True."
   ]
  },
  {
   "cell_type": "code",
   "execution_count": 176,
   "id": "e71647ab",
   "metadata": {},
   "outputs": [],
   "source": [
    "my_list = [1, 5, 4, 6, 7, 8, 11, 12]\n",
    "new_list = list(filter(lambda x: (x%2==0), my_list))"
   ]
  },
  {
   "cell_type": "code",
   "execution_count": 177,
   "id": "e561bf2b",
   "metadata": {},
   "outputs": [
    {
     "data": {
      "text/plain": [
       "[4, 6, 8, 12]"
      ]
     },
     "execution_count": 177,
     "metadata": {},
     "output_type": "execute_result"
    }
   ],
   "source": [
    "new_list"
   ]
  },
  {
   "cell_type": "markdown",
   "id": "64d873e3",
   "metadata": {},
   "source": [
    "<h3>*Use of lambda function with map()</h3><br>\n",
    "<font size = \"+0.5\"><li> The map() function in Python takes in a function and a list.<br>\n",
    "<li> The function is called with all the items in the list and a new list is returned which contains items returned by that function for each item."
   ]
  },
  {
   "cell_type": "code",
   "execution_count": 178,
   "id": "500ae922",
   "metadata": {},
   "outputs": [],
   "source": [
    "my_list = [1, 5, 4, 6, 7, 8, 11]\n",
    "new_list = list(map(lambda x: x*2, my_list))"
   ]
  },
  {
   "cell_type": "code",
   "execution_count": 179,
   "id": "43179835",
   "metadata": {},
   "outputs": [
    {
     "data": {
      "text/plain": [
       "[2, 10, 8, 12, 14, 16, 22]"
      ]
     },
     "execution_count": 179,
     "metadata": {},
     "output_type": "execute_result"
    }
   ],
   "source": [
    "new_list"
   ]
  },
  {
   "cell_type": "markdown",
   "id": "547c179c",
   "metadata": {},
   "source": [
    "<h2>13. Error and Exception Handling </h2><br>\n",
    "<font size = \"+0.5\"><li> An “exception” is usually defined as “something that does not conform to the norm,” and is therefore somewhat rare.\n",
    "<li> Virtually every module in the standard Python library uses them, and Python itself will raise them in many different circumstances.\n",
    "<li> For example, Python’s float function is used to cast a string to a floating- point number but if we input a string to float function, it will fail with ValueError."
   ]
  },
  {
   "cell_type": "code",
   "execution_count": 181,
   "id": "bf3a387d",
   "metadata": {},
   "outputs": [
    {
     "ename": "ValueError",
     "evalue": "could not convert string to float: 'num'",
     "output_type": "error",
     "traceback": [
      "\u001b[1;31m---------------------------------------------------------------------------\u001b[0m",
      "\u001b[1;31mValueError\u001b[0m                                Traceback (most recent call last)",
      "Cell \u001b[1;32mIn[181], line 1\u001b[0m\n\u001b[1;32m----> 1\u001b[0m \u001b[38;5;28;43mfloat\u001b[39;49m\u001b[43m(\u001b[49m\u001b[38;5;124;43m'\u001b[39;49m\u001b[38;5;124;43mnum\u001b[39;49m\u001b[38;5;124;43m'\u001b[39;49m\u001b[43m)\u001b[49m\n",
      "\u001b[1;31mValueError\u001b[0m: could not convert string to float: 'num'"
     ]
    }
   ],
   "source": [
    "float('num') "
   ]
  },
  {
   "cell_type": "markdown",
   "id": "08a9f04a",
   "metadata": {},
   "source": [
    "<h2>14. Try Except Block </h2><br>\n",
    "<font size = \"+0.5\"> Suppose if want that the program should return float if the casting is possible else return the input argument itself. \n"
   ]
  },
  {
   "cell_type": "code",
   "execution_count": 182,
   "id": "47bb6d7f",
   "metadata": {},
   "outputs": [],
   "source": [
    "def try_float(x):\n",
    "    try:\n",
    "        return float(x)\n",
    "    except:\n",
    "        return x "
   ]
  },
  {
   "cell_type": "code",
   "execution_count": 183,
   "id": "381b6518",
   "metadata": {},
   "outputs": [
    {
     "data": {
      "text/plain": [
       "'num'"
      ]
     },
     "execution_count": 183,
     "metadata": {},
     "output_type": "execute_result"
    }
   ],
   "source": [
    "try_float('num')"
   ]
  },
  {
   "cell_type": "code",
   "execution_count": 184,
   "id": "dade095a",
   "metadata": {},
   "outputs": [
    {
     "data": {
      "text/plain": [
       "5.6"
      ]
     },
     "execution_count": 184,
     "metadata": {},
     "output_type": "execute_result"
    }
   ],
   "source": [
    "try_float('5.6')"
   ]
  },
  {
   "cell_type": "code",
   "execution_count": 186,
   "id": "8486d754",
   "metadata": {},
   "outputs": [
    {
     "ename": "ValueError",
     "evalue": "could not convert string to float: 'num'",
     "output_type": "error",
     "traceback": [
      "\u001b[1;31m---------------------------------------------------------------------------\u001b[0m",
      "\u001b[1;31mValueError\u001b[0m                                Traceback (most recent call last)",
      "Cell \u001b[1;32mIn[186], line 1\u001b[0m\n\u001b[1;32m----> 1\u001b[0m \u001b[38;5;28;43mfloat\u001b[39;49m\u001b[43m(\u001b[49m\u001b[38;5;124;43m'\u001b[39;49m\u001b[38;5;124;43mnum\u001b[39;49m\u001b[38;5;124;43m'\u001b[39;49m\u001b[43m)\u001b[49m\n",
      "\u001b[1;31mValueError\u001b[0m: could not convert string to float: 'num'"
     ]
    }
   ],
   "source": [
    "float('num') "
   ]
  },
  {
   "cell_type": "markdown",
   "id": "b2a67360",
   "metadata": {},
   "source": [
    "<font size = \"+0.5\"> In the previous example, the float raised ValueError exception. But other exceptions than ValueError are also possible."
   ]
  },
  {
   "cell_type": "code",
   "execution_count": 187,
   "id": "a6e26cb5",
   "metadata": {},
   "outputs": [
    {
     "ename": "TypeError",
     "evalue": "float() argument must be a string or a real number, not 'tuple'",
     "output_type": "error",
     "traceback": [
      "\u001b[1;31m---------------------------------------------------------------------------\u001b[0m",
      "\u001b[1;31mTypeError\u001b[0m                                 Traceback (most recent call last)",
      "Cell \u001b[1;32mIn[187], line 1\u001b[0m\n\u001b[1;32m----> 1\u001b[0m \u001b[38;5;28;43mfloat\u001b[39;49m\u001b[43m(\u001b[49m\u001b[43m(\u001b[49m\u001b[38;5;241;43m1\u001b[39;49m\u001b[43m,\u001b[49m\u001b[38;5;241;43m2\u001b[39;49m\u001b[43m)\u001b[49m\u001b[43m)\u001b[49m\n",
      "\u001b[1;31mTypeError\u001b[0m: float() argument must be a string or a real number, not 'tuple'"
     ]
    }
   ],
   "source": [
    "float((1,2))"
   ]
  },
  {
   "cell_type": "code",
   "execution_count": 188,
   "id": "4f504c03",
   "metadata": {},
   "outputs": [],
   "source": [
    "# if we want to deal with just ValueError\n",
    "def try_float(x):\n",
    "    try:\n",
    "        return float(x)\n",
    "    except ValueError:\n",
    "        return x "
   ]
  },
  {
   "cell_type": "code",
   "execution_count": 189,
   "id": "50e03a6f",
   "metadata": {},
   "outputs": [
    {
     "data": {
      "text/plain": [
       "'num'"
      ]
     },
     "execution_count": 189,
     "metadata": {},
     "output_type": "execute_result"
    }
   ],
   "source": [
    "try_float('num')"
   ]
  },
  {
   "cell_type": "code",
   "execution_count": 190,
   "id": "2a4316e8",
   "metadata": {},
   "outputs": [
    {
     "ename": "TypeError",
     "evalue": "float() argument must be a string or a real number, not 'tuple'",
     "output_type": "error",
     "traceback": [
      "\u001b[1;31m---------------------------------------------------------------------------\u001b[0m",
      "\u001b[1;31mTypeError\u001b[0m                                 Traceback (most recent call last)",
      "Cell \u001b[1;32mIn[190], line 1\u001b[0m\n\u001b[1;32m----> 1\u001b[0m \u001b[43mtry_float\u001b[49m\u001b[43m(\u001b[49m\u001b[43m(\u001b[49m\u001b[38;5;241;43m1\u001b[39;49m\u001b[43m,\u001b[49m\u001b[38;5;241;43m2\u001b[39;49m\u001b[43m)\u001b[49m\u001b[43m)\u001b[49m\n",
      "Cell \u001b[1;32mIn[188], line 3\u001b[0m, in \u001b[0;36mtry_float\u001b[1;34m(x)\u001b[0m\n\u001b[0;32m      1\u001b[0m \u001b[38;5;28;01mdef\u001b[39;00m \u001b[38;5;21mtry_float\u001b[39m(x):\n\u001b[0;32m      2\u001b[0m     \u001b[38;5;28;01mtry\u001b[39;00m:\n\u001b[1;32m----> 3\u001b[0m         \u001b[38;5;28;01mreturn\u001b[39;00m \u001b[38;5;28;43mfloat\u001b[39;49m\u001b[43m(\u001b[49m\u001b[43mx\u001b[49m\u001b[43m)\u001b[49m\n\u001b[0;32m      4\u001b[0m     \u001b[38;5;28;01mexcept\u001b[39;00m \u001b[38;5;167;01mValueError\u001b[39;00m:\n\u001b[0;32m      5\u001b[0m         \u001b[38;5;28;01mreturn\u001b[39;00m x\n",
      "\u001b[1;31mTypeError\u001b[0m: float() argument must be a string or a real number, not 'tuple'"
     ]
    }
   ],
   "source": [
    "try_float((1,2))"
   ]
  },
  {
   "cell_type": "code",
   "execution_count": 191,
   "id": "b836219d",
   "metadata": {},
   "outputs": [],
   "source": [
    "# # if we want to deal with both ValueError & TypeError \n",
    "def try_float(x):\n",
    "    try:\n",
    "        return float(x)\n",
    "    except (ValueError, TypeError):\n",
    "        return x "
   ]
  },
  {
   "cell_type": "code",
   "execution_count": 192,
   "id": "1be8a742",
   "metadata": {},
   "outputs": [
    {
     "data": {
      "text/plain": [
       "'num'"
      ]
     },
     "execution_count": 192,
     "metadata": {},
     "output_type": "execute_result"
    }
   ],
   "source": [
    "try_float('num')"
   ]
  },
  {
   "cell_type": "code",
   "execution_count": 194,
   "id": "6b3a20fd",
   "metadata": {},
   "outputs": [
    {
     "data": {
      "text/plain": [
       "(1, 2)"
      ]
     },
     "execution_count": 194,
     "metadata": {},
     "output_type": "execute_result"
    }
   ],
   "source": [
    "try_float((1,2))"
   ]
  },
  {
   "cell_type": "markdown",
   "id": "6ab02dd3",
   "metadata": {},
   "source": [
    "<h3> Else with Try </h3><br>\n",
    "<font size = \"+0.5\"> The try except statement has an optional else clause, which, when present, must follow all except clauses. It is useful for code that must be executed if the try clause does not raise an exception. For example:"
   ]
  },
  {
   "cell_type": "code",
   "execution_count": 214,
   "id": "88e33627",
   "metadata": {},
   "outputs": [],
   "source": [
    "def divide(x, y):\n",
    "    try:\n",
    "        result = x/y\n",
    "    except ZeroDivisionError:\n",
    "        print(\"Cannot divide a number by zero\")\n",
    "    else:\n",
    "        print(\"this is the result = \", result)"
   ]
  },
  {
   "cell_type": "code",
   "execution_count": 217,
   "id": "f638e198",
   "metadata": {},
   "outputs": [
    {
     "name": "stdout",
     "output_type": "stream",
     "text": [
      "this is the result =  1.5\n"
     ]
    }
   ],
   "source": [
    "divide(3,2)"
   ]
  },
  {
   "cell_type": "code",
   "execution_count": 218,
   "id": "44c8d32e",
   "metadata": {},
   "outputs": [
    {
     "name": "stdout",
     "output_type": "stream",
     "text": [
      "Cannot divide a number by zero\n"
     ]
    }
   ],
   "source": [
    "divide(5,0)"
   ]
  },
  {
   "cell_type": "markdown",
   "id": "0d9eef33",
   "metadata": {},
   "source": [
    "<h3> Finally with Try </h3><br>\n",
    "<font size = \"+0.5\"> Python provides a keyword finally, which is always executed after try and except blocks. The finally block always executes after normal termination of try - except block."
   ]
  },
  {
   "cell_type": "code",
   "execution_count": 221,
   "id": "fee97be2",
   "metadata": {},
   "outputs": [],
   "source": [
    "def divide_again(x, y):\n",
    "    try:\n",
    "        result = x/y\n",
    "    except ZeroDivisionError:\n",
    "        print(\"Cannot divide a number by zero\")\n",
    "    else:\n",
    "        print(\"this is the result = \", result)\n",
    "    finally:\n",
    "        print(\"Division complete...\")"
   ]
  },
  {
   "cell_type": "code",
   "execution_count": 223,
   "id": "684af6f8",
   "metadata": {},
   "outputs": [
    {
     "name": "stdout",
     "output_type": "stream",
     "text": [
      "Cannot divide a number by zero\n",
      "Division complete...\n"
     ]
    }
   ],
   "source": [
    "divide_again(5,0)"
   ]
  },
  {
   "cell_type": "code",
   "execution_count": 222,
   "id": "268bad3d",
   "metadata": {},
   "outputs": [
    {
     "name": "stdout",
     "output_type": "stream",
     "text": [
      "this is the result =  1.5\n",
      "Division complete...\n"
     ]
    }
   ],
   "source": [
    "divide_again(3,2)"
   ]
  },
  {
   "attachments": {},
   "cell_type": "markdown",
   "id": "82a3cd95",
   "metadata": {},
   "source": [
    "<h2>15. File Handling </h2><br>\n",
    "<font size = \"+1\">File handling is an important part of any data analytics application.<br>\n",
    "There are several functions for creating, reading, updating, and deleting the files in Python.\n",
    "<h3><li> open() </li></h3>\n",
    "<font size = \"+1\">The open() function takes two parameters: filename and mode<br><br>\n",
    "    <em> SYNTAX </em><br><b> open(\"File_Name.extension\",\"mode\")</b><br> <br>\n",
    "The six different modes (methods) of opening a file are:<br>\n",
    "<ul>“r” – Read – Default value. It opens the file for reading. Gives error if file does not exist.</ul>\n",
    "<ul>“a” – Append – Opens the file for appending. It creates the file if the file does not exist.</ul>\n",
    "<ul>“w” – Write – Opens a file for writing. It creates the file if the file does not exist.</ul>\n",
    "<ul>“x” – Create – It creates the specified file. It returns an error if the file exists.</ul>\n",
    "<ul>“t” – Text – Default value, For Text mode.</ul>\n",
    "<ul>“b” – Binary – Binary mode for files that contains non-textual data. Read/write are performed in terms of bytes.</ul>"
   ]
  },
  {
   "cell_type": "code",
   "execution_count": 75,
   "id": "76a82c3b",
   "metadata": {},
   "outputs": [],
   "source": [
    "# Let's create a file first names myfile.txt\n",
    "f = open(\"myfile.txt\",'x')"
   ]
  },
  {
   "cell_type": "code",
   "execution_count": 78,
   "id": "0e7c153a",
   "metadata": {},
   "outputs": [],
   "source": [
    "# You should close the file when you are done with it\n",
    "f.close()"
   ]
  },
  {
   "cell_type": "markdown",
   "id": "6ff0255d",
   "metadata": {},
   "source": [
    "<h3><li> write()</li></h3>\n",
    "<font size = \"+0.5\">If you want to write to an existing file, you may use the following parameter:<br>\n",
    "<ul>“a” – Append – Opens the file for appending. It creates the file if the file does not exist.</ul>\n",
    "<ul>“w” – Write – Opens a file for writing. It creates the file if the file does not exist.</ul>\n",
    "To append to a file, you can open a file and append the content to the file by passing “a” as second parameter"
   ]
  },
  {
   "cell_type": "code",
   "execution_count": 103,
   "id": "8b7a3fdf",
   "metadata": {},
   "outputs": [],
   "source": [
    "w = open(\"myfile.txt\",\"w\") # for writing a new file or overwriting an existing file."
   ]
  },
  {
   "cell_type": "code",
   "execution_count": 104,
   "id": "cabac7e1",
   "metadata": {},
   "outputs": [
    {
     "data": {
      "text/plain": [
       "20"
      ]
     },
     "execution_count": 104,
     "metadata": {},
     "output_type": "execute_result"
    }
   ],
   "source": [
    "w.write(\"Added more content. \")"
   ]
  },
  {
   "cell_type": "code",
   "execution_count": 105,
   "id": "fa354592",
   "metadata": {},
   "outputs": [],
   "source": [
    "w.close()"
   ]
  },
  {
   "cell_type": "markdown",
   "id": "e84184e1",
   "metadata": {},
   "source": [
    "<font size = \"+0.5\">The open() function returns a file object that has a read() method for reading the content of the file."
   ]
  },
  {
   "cell_type": "code",
   "execution_count": 106,
   "id": "91fcc283",
   "metadata": {},
   "outputs": [],
   "source": [
    "w = open(\"myfile.txt\",\"rt\") # Because the “r” for read and “t” for text. These are the default values."
   ]
  },
  {
   "cell_type": "code",
   "execution_count": 107,
   "id": "cf81601f",
   "metadata": {},
   "outputs": [
    {
     "name": "stdout",
     "output_type": "stream",
     "text": [
      "Added more content. \n"
     ]
    }
   ],
   "source": [
    "print(w.read())"
   ]
  },
  {
   "cell_type": "code",
   "execution_count": 108,
   "id": "18c49c6d",
   "metadata": {},
   "outputs": [],
   "source": [
    "w.close()"
   ]
  },
  {
   "cell_type": "code",
   "execution_count": 109,
   "id": "d6496c45",
   "metadata": {},
   "outputs": [],
   "source": [
    "# for appending in a file\n",
    "f = open(\"myfile.txt\",\"a\")\n",
    "f.write(\"\\nData Analysis\")\n",
    "f.close()"
   ]
  },
  {
   "cell_type": "code",
   "execution_count": 110,
   "id": "875734e3",
   "metadata": {},
   "outputs": [
    {
     "name": "stdout",
     "output_type": "stream",
     "text": [
      "Added more content. \n",
      "Data Analysis\n"
     ]
    }
   ],
   "source": [
    "# again reading \n",
    "f = open(\"myfile.txt\",\"rt\")\n",
    "print(f.read())"
   ]
  },
  {
   "cell_type": "markdown",
   "id": "8d8a06f3",
   "metadata": {},
   "source": [
    "<h3> seek() </h3><br>\n",
    "<font size = \"+0.5\">The read pointer moves to after the last read byte/character. Use the seek() method to rewind the read pointer to the beginning."
   ]
  },
  {
   "cell_type": "code",
   "execution_count": 111,
   "id": "279da85c",
   "metadata": {},
   "outputs": [
    {
     "name": "stdout",
     "output_type": "stream",
     "text": [
      "\n"
     ]
    }
   ],
   "source": [
    "print(f.read())"
   ]
  },
  {
   "cell_type": "code",
   "execution_count": 112,
   "id": "dfa61aa8",
   "metadata": {},
   "outputs": [
    {
     "data": {
      "text/plain": [
       "0"
      ]
     },
     "execution_count": 112,
     "metadata": {},
     "output_type": "execute_result"
    }
   ],
   "source": [
    "f.seek(0)"
   ]
  },
  {
   "cell_type": "code",
   "execution_count": 113,
   "id": "60b05a0b",
   "metadata": {},
   "outputs": [
    {
     "name": "stdout",
     "output_type": "stream",
     "text": [
      "Added more content. \n",
      "Data Analysis\n"
     ]
    }
   ],
   "source": [
    "print(f.read())"
   ]
  },
  {
   "cell_type": "markdown",
   "id": "abadca52",
   "metadata": {},
   "source": [
    "<font size = \"+0.5\">read() methods reads the whole content of file, but to read the first 5 characters of file."
   ]
  },
  {
   "cell_type": "code",
   "execution_count": 114,
   "id": "2b210256",
   "metadata": {},
   "outputs": [
    {
     "data": {
      "text/plain": [
       "0"
      ]
     },
     "execution_count": 114,
     "metadata": {},
     "output_type": "execute_result"
    }
   ],
   "source": [
    "f.seek(0)"
   ]
  },
  {
   "cell_type": "code",
   "execution_count": 115,
   "id": "1eea6653",
   "metadata": {},
   "outputs": [
    {
     "name": "stdout",
     "output_type": "stream",
     "text": [
      "Added\n"
     ]
    }
   ],
   "source": [
    "print(f.read(5))"
   ]
  },
  {
   "cell_type": "markdown",
   "id": "8387a131",
   "metadata": {},
   "source": [
    "<font size = \"+0.5\">You can return one line by readline() method."
   ]
  },
  {
   "cell_type": "code",
   "execution_count": 116,
   "id": "4c0c300e",
   "metadata": {},
   "outputs": [
    {
     "name": "stdout",
     "output_type": "stream",
     "text": [
      "Added more content. \n",
      "\n"
     ]
    }
   ],
   "source": [
    "f.seek(0)\n",
    "print(f.readline())"
   ]
  },
  {
   "cell_type": "code",
   "execution_count": 117,
   "id": "7da92e32",
   "metadata": {},
   "outputs": [
    {
     "name": "stdout",
     "output_type": "stream",
     "text": [
      "Data Analysis\n"
     ]
    }
   ],
   "source": [
    "# to read the next line,\n",
    "print(f.readline())"
   ]
  },
  {
   "cell_type": "code",
   "execution_count": 118,
   "id": "3b3daca3",
   "metadata": {},
   "outputs": [],
   "source": [
    "f.close()"
   ]
  },
  {
   "cell_type": "code",
   "execution_count": 120,
   "id": "c0605518",
   "metadata": {},
   "outputs": [
    {
     "ename": "ValueError",
     "evalue": "I/O operation on closed file.",
     "output_type": "error",
     "traceback": [
      "\u001b[1;31m---------------------------------------------------------------------------\u001b[0m",
      "\u001b[1;31mValueError\u001b[0m                                Traceback (most recent call last)",
      "Cell \u001b[1;32mIn[120], line 2\u001b[0m\n\u001b[0;32m      1\u001b[0m \u001b[38;5;66;03m# after closing the file, No operation would be performed.\u001b[39;00m\n\u001b[1;32m----> 2\u001b[0m \u001b[43mf\u001b[49m\u001b[38;5;241;43m.\u001b[39;49m\u001b[43mseek\u001b[49m\u001b[43m(\u001b[49m\u001b[38;5;241;43m0\u001b[39;49m\u001b[43m)\u001b[49m\n",
      "\u001b[1;31mValueError\u001b[0m: I/O operation on closed file."
     ]
    }
   ],
   "source": [
    "# after closing the file, No operation would be performed.\n",
    "f.seek(0)"
   ]
  },
  {
   "cell_type": "markdown",
   "id": "ba135323",
   "metadata": {},
   "source": [
    "<font size = \"+0.5\"> To delete a file, you must import the OS module, and run its os.remove() function:"
   ]
  },
  {
   "cell_type": "code",
   "execution_count": 121,
   "id": "7378677d",
   "metadata": {},
   "outputs": [],
   "source": [
    "import os"
   ]
  },
  {
   "cell_type": "code",
   "execution_count": 122,
   "id": "ada3e199",
   "metadata": {},
   "outputs": [],
   "source": [
    "os.remove(\"myfile.txt\")"
   ]
  },
  {
   "cell_type": "code",
   "execution_count": 123,
   "id": "c5c41a89",
   "metadata": {},
   "outputs": [
    {
     "name": "stdout",
     "output_type": "stream",
     "text": [
      "no\n"
     ]
    }
   ],
   "source": [
    "# to check if the file exists or not,\n",
    "if os.path.exists(\"myfile.txt\"):\n",
    "    print(\"yes\")\n",
    "else: print(\"no\")"
   ]
  }
 ],
 "metadata": {
  "kernelspec": {
   "display_name": "Python 3 (ipykernel)",
   "language": "python",
   "name": "python3"
  },
  "language_info": {
   "codemirror_mode": {
    "name": "ipython",
    "version": 3
   },
   "file_extension": ".py",
   "mimetype": "text/x-python",
   "name": "python",
   "nbconvert_exporter": "python",
   "pygments_lexer": "ipython3",
   "version": "3.10.10"
  }
 },
 "nbformat": 4,
 "nbformat_minor": 5
}
